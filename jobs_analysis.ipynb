{
 "cells": [
  {
   "attachments": {},
   "cell_type": "markdown",
   "metadata": {},
   "source": [
    "# Cleaning scraped data from wuzzuf website"
   ]
  },
  {
   "cell_type": "code",
   "execution_count": 2,
   "metadata": {},
   "outputs": [],
   "source": [
    "import pandas as pd\n",
    "import numpy as np\n",
    "import re\n",
    "import matplotlib.pyplot as plt\n",
    "import plotly.express as px"
   ]
  },
  {
   "attachments": {},
   "cell_type": "markdown",
   "metadata": {},
   "source": [
    "## Loading the dataframe from csv file"
   ]
  },
  {
   "cell_type": "code",
   "execution_count": 3,
   "metadata": {},
   "outputs": [],
   "source": [
    "data = pd.read_csv('jobs Dec-11-2022.csv')"
   ]
  },
  {
   "cell_type": "code",
   "execution_count": 4,
   "metadata": {},
   "outputs": [
    {
     "data": {
      "text/html": [
       "<div>\n",
       "<style scoped>\n",
       "    .dataframe tbody tr th:only-of-type {\n",
       "        vertical-align: middle;\n",
       "    }\n",
       "\n",
       "    .dataframe tbody tr th {\n",
       "        vertical-align: top;\n",
       "    }\n",
       "\n",
       "    .dataframe thead th {\n",
       "        text-align: right;\n",
       "    }\n",
       "</style>\n",
       "<table border=\"1\" class=\"dataframe\">\n",
       "  <thead>\n",
       "    <tr style=\"text-align: right;\">\n",
       "      <th></th>\n",
       "      <th>Unnamed: 0</th>\n",
       "      <th>title</th>\n",
       "      <th>country</th>\n",
       "      <th>city</th>\n",
       "      <th>min_salary</th>\n",
       "      <th>max_salary</th>\n",
       "      <th>currency_</th>\n",
       "      <th>vacancies</th>\n",
       "      <th>date_posted</th>\n",
       "      <th>date_expire</th>\n",
       "      <th>...</th>\n",
       "      <th>hot_score</th>\n",
       "      <th>description</th>\n",
       "      <th>requirements</th>\n",
       "      <th>roles</th>\n",
       "      <th>types</th>\n",
       "      <th>gender_pref</th>\n",
       "      <th>education_pref</th>\n",
       "      <th>bachelor_required</th>\n",
       "      <th>min_experience</th>\n",
       "      <th>company_id</th>\n",
       "    </tr>\n",
       "  </thead>\n",
       "  <tbody>\n",
       "    <tr>\n",
       "      <th>0</th>\n",
       "      <td>b0b8062b-1938-4b28-9df1-a72e8cacc2d4</td>\n",
       "      <td>Sales Pharmacists</td>\n",
       "      <td>Egypt</td>\n",
       "      <td>Dakahlia</td>\n",
       "      <td>NaN</td>\n",
       "      <td>NaN</td>\n",
       "      <td>NaN</td>\n",
       "      <td>10</td>\n",
       "      <td>12/10/2022 15:29:18</td>\n",
       "      <td>02/08/2023 15:29:18</td>\n",
       "      <td>...</td>\n",
       "      <td>0</td>\n",
       "      <td>&lt;ul&gt;&lt;li&gt;Responding to Customers inquiries eith...</td>\n",
       "      <td>&lt;ul&gt;&lt;li&gt;Pharmacy Graduates.&lt;/li&gt;&lt;li&gt;Fresh or e...</td>\n",
       "      <td>['Sales/Retail', 'Pharmaceutical']</td>\n",
       "      <td>['Full Time']</td>\n",
       "      <td>NaN</td>\n",
       "      <td>Bachelor's Degree</td>\n",
       "      <td>False</td>\n",
       "      <td>NaN</td>\n",
       "      <td>81314.0</td>\n",
       "    </tr>\n",
       "    <tr>\n",
       "      <th>1</th>\n",
       "      <td>8157a7d6-8ec3-40f1-9a41-dcf9b0035b9b</td>\n",
       "      <td>Architect</td>\n",
       "      <td>Egypt</td>\n",
       "      <td>Cairo</td>\n",
       "      <td>NaN</td>\n",
       "      <td>NaN</td>\n",
       "      <td>NaN</td>\n",
       "      <td>1</td>\n",
       "      <td>12/10/2022 15:27:29</td>\n",
       "      <td>02/08/2023 15:27:29</td>\n",
       "      <td>...</td>\n",
       "      <td>2</td>\n",
       "      <td>&lt;ul&gt;&lt;li&gt;Control project from start to finish t...</td>\n",
       "      <td>&lt;p&gt;&amp;nbsp;&lt;/p&gt;&lt;ul&gt;&lt;li&gt;Bachelor’s Degree in Arch...</td>\n",
       "      <td>['Engineering - Construction/Civil/Architectur...</td>\n",
       "      <td>['Full Time']</td>\n",
       "      <td>males_only</td>\n",
       "      <td>Bachelor's Degree</td>\n",
       "      <td>False</td>\n",
       "      <td>1.0</td>\n",
       "      <td>25945.0</td>\n",
       "    </tr>\n",
       "    <tr>\n",
       "      <th>2</th>\n",
       "      <td>e109f748-3857-4b5d-b932-1574e55b9e09</td>\n",
       "      <td>Customer Service</td>\n",
       "      <td>Egypt</td>\n",
       "      <td>Cairo</td>\n",
       "      <td>5000.0</td>\n",
       "      <td>7000.0</td>\n",
       "      <td>{'id': 43, 'name': 'Egyptian Pound', 'code': '...</td>\n",
       "      <td>1</td>\n",
       "      <td>12/10/2022 15:14:58</td>\n",
       "      <td>02/08/2023 15:14:58</td>\n",
       "      <td>...</td>\n",
       "      <td>12</td>\n",
       "      <td>&lt;ul&gt;&lt;li&gt;Resolves problems by clarifying the cu...</td>\n",
       "      <td>&lt;ul&gt;&lt;li&gt;&lt;/li&gt;&lt;/ul&gt;</td>\n",
       "      <td>['Accounting/Finance']</td>\n",
       "      <td>['Full Time']</td>\n",
       "      <td>NaN</td>\n",
       "      <td>Not Specified</td>\n",
       "      <td>False</td>\n",
       "      <td>1.0</td>\n",
       "      <td>21702.0</td>\n",
       "    </tr>\n",
       "    <tr>\n",
       "      <th>3</th>\n",
       "      <td>a7d3c53b-2fc5-4557-967c-fa05ead249ee</td>\n",
       "      <td>Digital Community Facilitator - (For Mothers)</td>\n",
       "      <td>Egypt</td>\n",
       "      <td>Cairo</td>\n",
       "      <td>4000.0</td>\n",
       "      <td>5000.0</td>\n",
       "      <td>{'id': 43, 'name': 'Egyptian Pound', 'code': '...</td>\n",
       "      <td>4</td>\n",
       "      <td>12/10/2022 15:01:39</td>\n",
       "      <td>02/08/2023 15:01:39</td>\n",
       "      <td>...</td>\n",
       "      <td>2</td>\n",
       "      <td>&lt;p&gt;For stay-at-home bookworm mothers! We have ...</td>\n",
       "      <td>&lt;ul&gt;&lt;li&gt;Dedication of 7 hours/day for work. 18...</td>\n",
       "      <td>['Customer Service/Support', 'Writing/Editoria...</td>\n",
       "      <td>['Work From Home']</td>\n",
       "      <td>females_only</td>\n",
       "      <td>Bachelor's Degree</td>\n",
       "      <td>False</td>\n",
       "      <td>1.0</td>\n",
       "      <td>25970.0</td>\n",
       "    </tr>\n",
       "    <tr>\n",
       "      <th>4</th>\n",
       "      <td>0d0730f1-3c16-4bd3-8fef-e2f95829a1b0</td>\n",
       "      <td>Digital Marketing &amp; Sales Associate (For Mothers)</td>\n",
       "      <td>Egypt</td>\n",
       "      <td>Cairo</td>\n",
       "      <td>4000.0</td>\n",
       "      <td>5000.0</td>\n",
       "      <td>{'id': 43, 'name': 'Egyptian Pound', 'code': '...</td>\n",
       "      <td>4</td>\n",
       "      <td>12/10/2022 14:59:36</td>\n",
       "      <td>02/08/2023 14:59:36</td>\n",
       "      <td>...</td>\n",
       "      <td>2</td>\n",
       "      <td>&lt;p&gt;Only for stay-at-home bookworm mothers; we ...</td>\n",
       "      <td>&lt;ul&gt;&lt;li&gt;Fluent command of English both written...</td>\n",
       "      <td>['Marketing/PR/Advertising', 'Sales/Retail', '...</td>\n",
       "      <td>['Work From Home']</td>\n",
       "      <td>females_only</td>\n",
       "      <td>Bachelor's Degree</td>\n",
       "      <td>False</td>\n",
       "      <td>1.0</td>\n",
       "      <td>25970.0</td>\n",
       "    </tr>\n",
       "  </tbody>\n",
       "</table>\n",
       "<p>5 rows × 21 columns</p>\n",
       "</div>"
      ],
      "text/plain": [
       "                             Unnamed: 0  \\\n",
       "0  b0b8062b-1938-4b28-9df1-a72e8cacc2d4   \n",
       "1  8157a7d6-8ec3-40f1-9a41-dcf9b0035b9b   \n",
       "2  e109f748-3857-4b5d-b932-1574e55b9e09   \n",
       "3  a7d3c53b-2fc5-4557-967c-fa05ead249ee   \n",
       "4  0d0730f1-3c16-4bd3-8fef-e2f95829a1b0   \n",
       "\n",
       "                                               title country      city  \\\n",
       "0                                  Sales Pharmacists   Egypt  Dakahlia   \n",
       "1                                          Architect   Egypt     Cairo   \n",
       "2                                   Customer Service   Egypt     Cairo   \n",
       "3      Digital Community Facilitator - (For Mothers)   Egypt     Cairo   \n",
       "4  Digital Marketing & Sales Associate (For Mothers)   Egypt     Cairo   \n",
       "\n",
       "   min_salary  max_salary                                          currency_  \\\n",
       "0         NaN         NaN                                                NaN   \n",
       "1         NaN         NaN                                                NaN   \n",
       "2      5000.0      7000.0  {'id': 43, 'name': 'Egyptian Pound', 'code': '...   \n",
       "3      4000.0      5000.0  {'id': 43, 'name': 'Egyptian Pound', 'code': '...   \n",
       "4      4000.0      5000.0  {'id': 43, 'name': 'Egyptian Pound', 'code': '...   \n",
       "\n",
       "   vacancies          date_posted          date_expire  ...  hot_score  \\\n",
       "0         10  12/10/2022 15:29:18  02/08/2023 15:29:18  ...          0   \n",
       "1          1  12/10/2022 15:27:29  02/08/2023 15:27:29  ...          2   \n",
       "2          1  12/10/2022 15:14:58  02/08/2023 15:14:58  ...         12   \n",
       "3          4  12/10/2022 15:01:39  02/08/2023 15:01:39  ...          2   \n",
       "4          4  12/10/2022 14:59:36  02/08/2023 14:59:36  ...          2   \n",
       "\n",
       "                                         description  \\\n",
       "0  <ul><li>Responding to Customers inquiries eith...   \n",
       "1  <ul><li>Control project from start to finish t...   \n",
       "2  <ul><li>Resolves problems by clarifying the cu...   \n",
       "3  <p>For stay-at-home bookworm mothers! We have ...   \n",
       "4  <p>Only for stay-at-home bookworm mothers; we ...   \n",
       "\n",
       "                                        requirements  \\\n",
       "0  <ul><li>Pharmacy Graduates.</li><li>Fresh or e...   \n",
       "1  <p>&nbsp;</p><ul><li>Bachelor’s Degree in Arch...   \n",
       "2                                 <ul><li></li></ul>   \n",
       "3  <ul><li>Dedication of 7 hours/day for work. 18...   \n",
       "4  <ul><li>Fluent command of English both written...   \n",
       "\n",
       "                                               roles               types  \\\n",
       "0                 ['Sales/Retail', 'Pharmaceutical']       ['Full Time']   \n",
       "1  ['Engineering - Construction/Civil/Architectur...       ['Full Time']   \n",
       "2                             ['Accounting/Finance']       ['Full Time']   \n",
       "3  ['Customer Service/Support', 'Writing/Editoria...  ['Work From Home']   \n",
       "4  ['Marketing/PR/Advertising', 'Sales/Retail', '...  ['Work From Home']   \n",
       "\n",
       "    gender_pref     education_pref bachelor_required  min_experience  \\\n",
       "0           NaN  Bachelor's Degree             False             NaN   \n",
       "1    males_only  Bachelor's Degree             False             1.0   \n",
       "2           NaN      Not Specified             False             1.0   \n",
       "3  females_only  Bachelor's Degree             False             1.0   \n",
       "4  females_only  Bachelor's Degree             False             1.0   \n",
       "\n",
       "   company_id  \n",
       "0     81314.0  \n",
       "1     25945.0  \n",
       "2     21702.0  \n",
       "3     25970.0  \n",
       "4     25970.0  \n",
       "\n",
       "[5 rows x 21 columns]"
      ]
     },
     "execution_count": 4,
     "metadata": {},
     "output_type": "execute_result"
    }
   ],
   "source": [
    "data.head()"
   ]
  },
  {
   "attachments": {},
   "cell_type": "markdown",
   "metadata": {},
   "source": [
    "#### Renaming columns"
   ]
  },
  {
   "cell_type": "code",
   "execution_count": 5,
   "metadata": {},
   "outputs": [],
   "source": [
    "data.rename({'Unnamed: 0':'id','currency_':'currency'},axis=1,inplace=True)"
   ]
  },
  {
   "cell_type": "code",
   "execution_count": 6,
   "metadata": {},
   "outputs": [],
   "source": [
    "data = data.iloc[:,:7]"
   ]
  },
  {
   "cell_type": "code",
   "execution_count": 7,
   "metadata": {},
   "outputs": [],
   "source": [
    "data['currency'] = data['currency'].str.findall(r\"'code': '(...)'\")"
   ]
  },
  {
   "cell_type": "code",
   "execution_count": 8,
   "metadata": {},
   "outputs": [],
   "source": [
    "def unpack_list(x):\n",
    "    try:\n",
    "        return x[0]\n",
    "    except:\n",
    "        return x"
   ]
  },
  {
   "cell_type": "code",
   "execution_count": 9,
   "metadata": {},
   "outputs": [],
   "source": [
    "data['currency'] =  data['currency'].apply(unpack_list)"
   ]
  },
  {
   "attachments": {},
   "cell_type": "markdown",
   "metadata": {},
   "source": [
    "### Analysis for the min and max salaries"
   ]
  },
  {
   "cell_type": "code",
   "execution_count": 10,
   "metadata": {},
   "outputs": [
    {
     "data": {
      "text/html": [
       "<div>\n",
       "<style scoped>\n",
       "    .dataframe tbody tr th:only-of-type {\n",
       "        vertical-align: middle;\n",
       "    }\n",
       "\n",
       "    .dataframe tbody tr th {\n",
       "        vertical-align: top;\n",
       "    }\n",
       "\n",
       "    .dataframe thead th {\n",
       "        text-align: right;\n",
       "    }\n",
       "</style>\n",
       "<table border=\"1\" class=\"dataframe\">\n",
       "  <thead>\n",
       "    <tr style=\"text-align: right;\">\n",
       "      <th></th>\n",
       "      <th>min_salary</th>\n",
       "      <th>max_salary</th>\n",
       "    </tr>\n",
       "    <tr>\n",
       "      <th>city</th>\n",
       "      <th></th>\n",
       "      <th></th>\n",
       "    </tr>\n",
       "  </thead>\n",
       "  <tbody>\n",
       "    <tr>\n",
       "      <th>Monufya</th>\n",
       "      <td>17666.666667</td>\n",
       "      <td>20666.666667</td>\n",
       "    </tr>\n",
       "    <tr>\n",
       "      <th>Red Sea</th>\n",
       "      <td>11666.666667</td>\n",
       "      <td>14000.000000</td>\n",
       "    </tr>\n",
       "    <tr>\n",
       "      <th>Qalubia</th>\n",
       "      <td>9875.000000</td>\n",
       "      <td>12250.000000</td>\n",
       "    </tr>\n",
       "    <tr>\n",
       "      <th>Beni Suef</th>\n",
       "      <td>6500.000000</td>\n",
       "      <td>11625.000000</td>\n",
       "    </tr>\n",
       "    <tr>\n",
       "      <th>Cairo</th>\n",
       "      <td>7826.460548</td>\n",
       "      <td>11174.341385</td>\n",
       "    </tr>\n",
       "    <tr>\n",
       "      <th>Matruh</th>\n",
       "      <td>6500.000000</td>\n",
       "      <td>11000.000000</td>\n",
       "    </tr>\n",
       "    <tr>\n",
       "      <th>Fayoum</th>\n",
       "      <td>8000.000000</td>\n",
       "      <td>10000.000000</td>\n",
       "    </tr>\n",
       "    <tr>\n",
       "      <th>Giza</th>\n",
       "      <td>6894.080000</td>\n",
       "      <td>9791.200000</td>\n",
       "    </tr>\n",
       "    <tr>\n",
       "      <th>Gharbia</th>\n",
       "      <td>6500.000000</td>\n",
       "      <td>9750.000000</td>\n",
       "    </tr>\n",
       "    <tr>\n",
       "      <th>Alexandria</th>\n",
       "      <td>6783.333333</td>\n",
       "      <td>9416.666667</td>\n",
       "    </tr>\n",
       "    <tr>\n",
       "      <th>Sharqia</th>\n",
       "      <td>6312.500000</td>\n",
       "      <td>7750.000000</td>\n",
       "    </tr>\n",
       "    <tr>\n",
       "      <th>Minya</th>\n",
       "      <td>5000.000000</td>\n",
       "      <td>6000.000000</td>\n",
       "    </tr>\n",
       "    <tr>\n",
       "      <th>Assiut</th>\n",
       "      <td>4166.666667</td>\n",
       "      <td>5833.333333</td>\n",
       "    </tr>\n",
       "    <tr>\n",
       "      <th>Damietta</th>\n",
       "      <td>3560.000000</td>\n",
       "      <td>4600.000000</td>\n",
       "    </tr>\n",
       "    <tr>\n",
       "      <th>Port Said</th>\n",
       "      <td>1500.000000</td>\n",
       "      <td>2000.000000</td>\n",
       "    </tr>\n",
       "    <tr>\n",
       "      <th>Suez</th>\n",
       "      <td>50.000000</td>\n",
       "      <td>60.000000</td>\n",
       "    </tr>\n",
       "    <tr>\n",
       "      <th>Aswan</th>\n",
       "      <td>NaN</td>\n",
       "      <td>NaN</td>\n",
       "    </tr>\n",
       "    <tr>\n",
       "      <th>Beheira</th>\n",
       "      <td>NaN</td>\n",
       "      <td>NaN</td>\n",
       "    </tr>\n",
       "    <tr>\n",
       "      <th>Dakahlia</th>\n",
       "      <td>NaN</td>\n",
       "      <td>NaN</td>\n",
       "    </tr>\n",
       "    <tr>\n",
       "      <th>Ismailia</th>\n",
       "      <td>NaN</td>\n",
       "      <td>NaN</td>\n",
       "    </tr>\n",
       "    <tr>\n",
       "      <th>Kafr Alsheikh</th>\n",
       "      <td>NaN</td>\n",
       "      <td>NaN</td>\n",
       "    </tr>\n",
       "    <tr>\n",
       "      <th>Luxor</th>\n",
       "      <td>NaN</td>\n",
       "      <td>NaN</td>\n",
       "    </tr>\n",
       "    <tr>\n",
       "      <th>New Valley</th>\n",
       "      <td>NaN</td>\n",
       "      <td>NaN</td>\n",
       "    </tr>\n",
       "    <tr>\n",
       "      <th>North Sinai</th>\n",
       "      <td>NaN</td>\n",
       "      <td>NaN</td>\n",
       "    </tr>\n",
       "    <tr>\n",
       "      <th>Sohag</th>\n",
       "      <td>NaN</td>\n",
       "      <td>NaN</td>\n",
       "    </tr>\n",
       "    <tr>\n",
       "      <th>South Sinai</th>\n",
       "      <td>NaN</td>\n",
       "      <td>NaN</td>\n",
       "    </tr>\n",
       "  </tbody>\n",
       "</table>\n",
       "</div>"
      ],
      "text/plain": [
       "                 min_salary    max_salary\n",
       "city                                     \n",
       "Monufya        17666.666667  20666.666667\n",
       "Red Sea        11666.666667  14000.000000\n",
       "Qalubia         9875.000000  12250.000000\n",
       "Beni Suef       6500.000000  11625.000000\n",
       "Cairo           7826.460548  11174.341385\n",
       "Matruh          6500.000000  11000.000000\n",
       "Fayoum          8000.000000  10000.000000\n",
       "Giza            6894.080000   9791.200000\n",
       "Gharbia         6500.000000   9750.000000\n",
       "Alexandria      6783.333333   9416.666667\n",
       "Sharqia         6312.500000   7750.000000\n",
       "Minya           5000.000000   6000.000000\n",
       "Assiut          4166.666667   5833.333333\n",
       "Damietta        3560.000000   4600.000000\n",
       "Port Said       1500.000000   2000.000000\n",
       "Suez              50.000000     60.000000\n",
       "Aswan                   NaN           NaN\n",
       "Beheira                 NaN           NaN\n",
       "Dakahlia                NaN           NaN\n",
       "Ismailia                NaN           NaN\n",
       "Kafr Alsheikh           NaN           NaN\n",
       "Luxor                   NaN           NaN\n",
       "New Valley              NaN           NaN\n",
       "North Sinai             NaN           NaN\n",
       "Sohag                   NaN           NaN\n",
       "South Sinai             NaN           NaN"
      ]
     },
     "execution_count": 10,
     "metadata": {},
     "output_type": "execute_result"
    }
   ],
   "source": [
    "data[data['country']=='Egypt'].groupby('city')[['min_salary','max_salary']].mean().sort_values('max_salary',ascending=False)"
   ]
  },
  {
   "cell_type": "code",
   "execution_count": 11,
   "metadata": {},
   "outputs": [
    {
     "data": {
      "application/vnd.plotly.v1+json": {
       "config": {
        "plotlyServerURL": "https://plot.ly"
       },
       "data": [
        {
         "alignmentgroup": "True",
         "hovertemplate": "variable=city<br>index=%{x}<br>value=%{y}<extra></extra>",
         "legendgroup": "city",
         "marker": {
          "color": "#636efa",
          "pattern": {
           "shape": ""
          }
         },
         "name": "city",
         "offsetgroup": "city",
         "orientation": "v",
         "showlegend": true,
         "textposition": "auto",
         "type": "bar",
         "x": [
          "Cairo",
          "Giza",
          "Alexandria",
          "Sharqia",
          "Qalubia",
          "Suez",
          "Monufya",
          "Dakahlia",
          "Gharbia",
          "Red Sea",
          "Port Said",
          "Beni Suef",
          "Assiut",
          "Matruh",
          "Minya",
          "Damietta",
          "Sohag",
          "Ismailia",
          "Beheira",
          "Fayoum",
          "North Sinai",
          "Luxor",
          "Kafr Alsheikh",
          "South Sinai",
          "New Valley",
          "Aswan"
         ],
         "xaxis": "x",
         "y": [
          4789,
          1707,
          416,
          170,
          49,
          40,
          39,
          38,
          36,
          35,
          27,
          27,
          22,
          20,
          18,
          13,
          13,
          11,
          9,
          9,
          6,
          4,
          4,
          3,
          2,
          1
         ],
         "yaxis": "y"
        }
       ],
       "layout": {
        "barmode": "relative",
        "legend": {
         "title": {
          "text": "variable"
         },
         "tracegroupgap": 0
        },
        "margin": {
         "t": 60
        },
        "template": {
         "data": {
          "bar": [
           {
            "error_x": {
             "color": "#2a3f5f"
            },
            "error_y": {
             "color": "#2a3f5f"
            },
            "marker": {
             "line": {
              "color": "#E5ECF6",
              "width": 0.5
             },
             "pattern": {
              "fillmode": "overlay",
              "size": 10,
              "solidity": 0.2
             }
            },
            "type": "bar"
           }
          ],
          "barpolar": [
           {
            "marker": {
             "line": {
              "color": "#E5ECF6",
              "width": 0.5
             },
             "pattern": {
              "fillmode": "overlay",
              "size": 10,
              "solidity": 0.2
             }
            },
            "type": "barpolar"
           }
          ],
          "carpet": [
           {
            "aaxis": {
             "endlinecolor": "#2a3f5f",
             "gridcolor": "white",
             "linecolor": "white",
             "minorgridcolor": "white",
             "startlinecolor": "#2a3f5f"
            },
            "baxis": {
             "endlinecolor": "#2a3f5f",
             "gridcolor": "white",
             "linecolor": "white",
             "minorgridcolor": "white",
             "startlinecolor": "#2a3f5f"
            },
            "type": "carpet"
           }
          ],
          "choropleth": [
           {
            "colorbar": {
             "outlinewidth": 0,
             "ticks": ""
            },
            "type": "choropleth"
           }
          ],
          "contour": [
           {
            "colorbar": {
             "outlinewidth": 0,
             "ticks": ""
            },
            "colorscale": [
             [
              0,
              "#0d0887"
             ],
             [
              0.1111111111111111,
              "#46039f"
             ],
             [
              0.2222222222222222,
              "#7201a8"
             ],
             [
              0.3333333333333333,
              "#9c179e"
             ],
             [
              0.4444444444444444,
              "#bd3786"
             ],
             [
              0.5555555555555556,
              "#d8576b"
             ],
             [
              0.6666666666666666,
              "#ed7953"
             ],
             [
              0.7777777777777778,
              "#fb9f3a"
             ],
             [
              0.8888888888888888,
              "#fdca26"
             ],
             [
              1,
              "#f0f921"
             ]
            ],
            "type": "contour"
           }
          ],
          "contourcarpet": [
           {
            "colorbar": {
             "outlinewidth": 0,
             "ticks": ""
            },
            "type": "contourcarpet"
           }
          ],
          "heatmap": [
           {
            "colorbar": {
             "outlinewidth": 0,
             "ticks": ""
            },
            "colorscale": [
             [
              0,
              "#0d0887"
             ],
             [
              0.1111111111111111,
              "#46039f"
             ],
             [
              0.2222222222222222,
              "#7201a8"
             ],
             [
              0.3333333333333333,
              "#9c179e"
             ],
             [
              0.4444444444444444,
              "#bd3786"
             ],
             [
              0.5555555555555556,
              "#d8576b"
             ],
             [
              0.6666666666666666,
              "#ed7953"
             ],
             [
              0.7777777777777778,
              "#fb9f3a"
             ],
             [
              0.8888888888888888,
              "#fdca26"
             ],
             [
              1,
              "#f0f921"
             ]
            ],
            "type": "heatmap"
           }
          ],
          "heatmapgl": [
           {
            "colorbar": {
             "outlinewidth": 0,
             "ticks": ""
            },
            "colorscale": [
             [
              0,
              "#0d0887"
             ],
             [
              0.1111111111111111,
              "#46039f"
             ],
             [
              0.2222222222222222,
              "#7201a8"
             ],
             [
              0.3333333333333333,
              "#9c179e"
             ],
             [
              0.4444444444444444,
              "#bd3786"
             ],
             [
              0.5555555555555556,
              "#d8576b"
             ],
             [
              0.6666666666666666,
              "#ed7953"
             ],
             [
              0.7777777777777778,
              "#fb9f3a"
             ],
             [
              0.8888888888888888,
              "#fdca26"
             ],
             [
              1,
              "#f0f921"
             ]
            ],
            "type": "heatmapgl"
           }
          ],
          "histogram": [
           {
            "marker": {
             "pattern": {
              "fillmode": "overlay",
              "size": 10,
              "solidity": 0.2
             }
            },
            "type": "histogram"
           }
          ],
          "histogram2d": [
           {
            "colorbar": {
             "outlinewidth": 0,
             "ticks": ""
            },
            "colorscale": [
             [
              0,
              "#0d0887"
             ],
             [
              0.1111111111111111,
              "#46039f"
             ],
             [
              0.2222222222222222,
              "#7201a8"
             ],
             [
              0.3333333333333333,
              "#9c179e"
             ],
             [
              0.4444444444444444,
              "#bd3786"
             ],
             [
              0.5555555555555556,
              "#d8576b"
             ],
             [
              0.6666666666666666,
              "#ed7953"
             ],
             [
              0.7777777777777778,
              "#fb9f3a"
             ],
             [
              0.8888888888888888,
              "#fdca26"
             ],
             [
              1,
              "#f0f921"
             ]
            ],
            "type": "histogram2d"
           }
          ],
          "histogram2dcontour": [
           {
            "colorbar": {
             "outlinewidth": 0,
             "ticks": ""
            },
            "colorscale": [
             [
              0,
              "#0d0887"
             ],
             [
              0.1111111111111111,
              "#46039f"
             ],
             [
              0.2222222222222222,
              "#7201a8"
             ],
             [
              0.3333333333333333,
              "#9c179e"
             ],
             [
              0.4444444444444444,
              "#bd3786"
             ],
             [
              0.5555555555555556,
              "#d8576b"
             ],
             [
              0.6666666666666666,
              "#ed7953"
             ],
             [
              0.7777777777777778,
              "#fb9f3a"
             ],
             [
              0.8888888888888888,
              "#fdca26"
             ],
             [
              1,
              "#f0f921"
             ]
            ],
            "type": "histogram2dcontour"
           }
          ],
          "mesh3d": [
           {
            "colorbar": {
             "outlinewidth": 0,
             "ticks": ""
            },
            "type": "mesh3d"
           }
          ],
          "parcoords": [
           {
            "line": {
             "colorbar": {
              "outlinewidth": 0,
              "ticks": ""
             }
            },
            "type": "parcoords"
           }
          ],
          "pie": [
           {
            "automargin": true,
            "type": "pie"
           }
          ],
          "scatter": [
           {
            "fillpattern": {
             "fillmode": "overlay",
             "size": 10,
             "solidity": 0.2
            },
            "type": "scatter"
           }
          ],
          "scatter3d": [
           {
            "line": {
             "colorbar": {
              "outlinewidth": 0,
              "ticks": ""
             }
            },
            "marker": {
             "colorbar": {
              "outlinewidth": 0,
              "ticks": ""
             }
            },
            "type": "scatter3d"
           }
          ],
          "scattercarpet": [
           {
            "marker": {
             "colorbar": {
              "outlinewidth": 0,
              "ticks": ""
             }
            },
            "type": "scattercarpet"
           }
          ],
          "scattergeo": [
           {
            "marker": {
             "colorbar": {
              "outlinewidth": 0,
              "ticks": ""
             }
            },
            "type": "scattergeo"
           }
          ],
          "scattergl": [
           {
            "marker": {
             "colorbar": {
              "outlinewidth": 0,
              "ticks": ""
             }
            },
            "type": "scattergl"
           }
          ],
          "scattermapbox": [
           {
            "marker": {
             "colorbar": {
              "outlinewidth": 0,
              "ticks": ""
             }
            },
            "type": "scattermapbox"
           }
          ],
          "scatterpolar": [
           {
            "marker": {
             "colorbar": {
              "outlinewidth": 0,
              "ticks": ""
             }
            },
            "type": "scatterpolar"
           }
          ],
          "scatterpolargl": [
           {
            "marker": {
             "colorbar": {
              "outlinewidth": 0,
              "ticks": ""
             }
            },
            "type": "scatterpolargl"
           }
          ],
          "scatterternary": [
           {
            "marker": {
             "colorbar": {
              "outlinewidth": 0,
              "ticks": ""
             }
            },
            "type": "scatterternary"
           }
          ],
          "surface": [
           {
            "colorbar": {
             "outlinewidth": 0,
             "ticks": ""
            },
            "colorscale": [
             [
              0,
              "#0d0887"
             ],
             [
              0.1111111111111111,
              "#46039f"
             ],
             [
              0.2222222222222222,
              "#7201a8"
             ],
             [
              0.3333333333333333,
              "#9c179e"
             ],
             [
              0.4444444444444444,
              "#bd3786"
             ],
             [
              0.5555555555555556,
              "#d8576b"
             ],
             [
              0.6666666666666666,
              "#ed7953"
             ],
             [
              0.7777777777777778,
              "#fb9f3a"
             ],
             [
              0.8888888888888888,
              "#fdca26"
             ],
             [
              1,
              "#f0f921"
             ]
            ],
            "type": "surface"
           }
          ],
          "table": [
           {
            "cells": {
             "fill": {
              "color": "#EBF0F8"
             },
             "line": {
              "color": "white"
             }
            },
            "header": {
             "fill": {
              "color": "#C8D4E3"
             },
             "line": {
              "color": "white"
             }
            },
            "type": "table"
           }
          ]
         },
         "layout": {
          "annotationdefaults": {
           "arrowcolor": "#2a3f5f",
           "arrowhead": 0,
           "arrowwidth": 1
          },
          "autotypenumbers": "strict",
          "coloraxis": {
           "colorbar": {
            "outlinewidth": 0,
            "ticks": ""
           }
          },
          "colorscale": {
           "diverging": [
            [
             0,
             "#8e0152"
            ],
            [
             0.1,
             "#c51b7d"
            ],
            [
             0.2,
             "#de77ae"
            ],
            [
             0.3,
             "#f1b6da"
            ],
            [
             0.4,
             "#fde0ef"
            ],
            [
             0.5,
             "#f7f7f7"
            ],
            [
             0.6,
             "#e6f5d0"
            ],
            [
             0.7,
             "#b8e186"
            ],
            [
             0.8,
             "#7fbc41"
            ],
            [
             0.9,
             "#4d9221"
            ],
            [
             1,
             "#276419"
            ]
           ],
           "sequential": [
            [
             0,
             "#0d0887"
            ],
            [
             0.1111111111111111,
             "#46039f"
            ],
            [
             0.2222222222222222,
             "#7201a8"
            ],
            [
             0.3333333333333333,
             "#9c179e"
            ],
            [
             0.4444444444444444,
             "#bd3786"
            ],
            [
             0.5555555555555556,
             "#d8576b"
            ],
            [
             0.6666666666666666,
             "#ed7953"
            ],
            [
             0.7777777777777778,
             "#fb9f3a"
            ],
            [
             0.8888888888888888,
             "#fdca26"
            ],
            [
             1,
             "#f0f921"
            ]
           ],
           "sequentialminus": [
            [
             0,
             "#0d0887"
            ],
            [
             0.1111111111111111,
             "#46039f"
            ],
            [
             0.2222222222222222,
             "#7201a8"
            ],
            [
             0.3333333333333333,
             "#9c179e"
            ],
            [
             0.4444444444444444,
             "#bd3786"
            ],
            [
             0.5555555555555556,
             "#d8576b"
            ],
            [
             0.6666666666666666,
             "#ed7953"
            ],
            [
             0.7777777777777778,
             "#fb9f3a"
            ],
            [
             0.8888888888888888,
             "#fdca26"
            ],
            [
             1,
             "#f0f921"
            ]
           ]
          },
          "colorway": [
           "#636efa",
           "#EF553B",
           "#00cc96",
           "#ab63fa",
           "#FFA15A",
           "#19d3f3",
           "#FF6692",
           "#B6E880",
           "#FF97FF",
           "#FECB52"
          ],
          "font": {
           "color": "#2a3f5f"
          },
          "geo": {
           "bgcolor": "white",
           "lakecolor": "white",
           "landcolor": "#E5ECF6",
           "showlakes": true,
           "showland": true,
           "subunitcolor": "white"
          },
          "hoverlabel": {
           "align": "left"
          },
          "hovermode": "closest",
          "mapbox": {
           "style": "light"
          },
          "paper_bgcolor": "white",
          "plot_bgcolor": "#E5ECF6",
          "polar": {
           "angularaxis": {
            "gridcolor": "white",
            "linecolor": "white",
            "ticks": ""
           },
           "bgcolor": "#E5ECF6",
           "radialaxis": {
            "gridcolor": "white",
            "linecolor": "white",
            "ticks": ""
           }
          },
          "scene": {
           "xaxis": {
            "backgroundcolor": "#E5ECF6",
            "gridcolor": "white",
            "gridwidth": 2,
            "linecolor": "white",
            "showbackground": true,
            "ticks": "",
            "zerolinecolor": "white"
           },
           "yaxis": {
            "backgroundcolor": "#E5ECF6",
            "gridcolor": "white",
            "gridwidth": 2,
            "linecolor": "white",
            "showbackground": true,
            "ticks": "",
            "zerolinecolor": "white"
           },
           "zaxis": {
            "backgroundcolor": "#E5ECF6",
            "gridcolor": "white",
            "gridwidth": 2,
            "linecolor": "white",
            "showbackground": true,
            "ticks": "",
            "zerolinecolor": "white"
           }
          },
          "shapedefaults": {
           "line": {
            "color": "#2a3f5f"
           }
          },
          "ternary": {
           "aaxis": {
            "gridcolor": "white",
            "linecolor": "white",
            "ticks": ""
           },
           "baxis": {
            "gridcolor": "white",
            "linecolor": "white",
            "ticks": ""
           },
           "bgcolor": "#E5ECF6",
           "caxis": {
            "gridcolor": "white",
            "linecolor": "white",
            "ticks": ""
           }
          },
          "title": {
           "x": 0.05
          },
          "xaxis": {
           "automargin": true,
           "gridcolor": "white",
           "linecolor": "white",
           "ticks": "",
           "title": {
            "standoff": 15
           },
           "zerolinecolor": "white",
           "zerolinewidth": 2
          },
          "yaxis": {
           "automargin": true,
           "gridcolor": "white",
           "linecolor": "white",
           "ticks": "",
           "title": {
            "standoff": 15
           },
           "zerolinecolor": "white",
           "zerolinewidth": 2
          }
         }
        },
        "xaxis": {
         "anchor": "y",
         "domain": [
          0,
          1
         ],
         "title": {
          "text": "index"
         }
        },
        "yaxis": {
         "anchor": "x",
         "domain": [
          0,
          1
         ],
         "title": {
          "text": "value"
         }
        }
       }
      }
     },
     "metadata": {},
     "output_type": "display_data"
    }
   ],
   "source": [
    "px.bar(data[data['country']=='Egypt'].city.value_counts())"
   ]
  },
  {
   "cell_type": "code",
   "execution_count": 12,
   "metadata": {},
   "outputs": [
    {
     "data": {
      "application/vnd.plotly.v1+json": {
       "config": {
        "plotlyServerURL": "https://plot.ly"
       },
       "data": [
        {
         "alignmentgroup": "True",
         "hovertemplate": "variable=min_salary<br>city=%{x}<br>value=%{y}<extra></extra>",
         "legendgroup": "min_salary",
         "marker": {
          "color": "#636efa",
          "pattern": {
           "shape": ""
          }
         },
         "name": "min_salary",
         "offsetgroup": "min_salary",
         "orientation": "v",
         "showlegend": true,
         "textposition": "auto",
         "type": "bar",
         "x": [
          "Monufya",
          "Red Sea",
          "Qalubia",
          "Beni Suef",
          "Cairo",
          "Matruh",
          "Fayoum",
          "Giza",
          "Gharbia",
          "Alexandria",
          "Sharqia",
          "Minya",
          "Assiut",
          "Damietta",
          "Port Said",
          "Suez",
          "Aswan",
          "Beheira",
          "Dakahlia",
          "Ismailia",
          "Kafr Alsheikh",
          "Luxor",
          "New Valley",
          "North Sinai",
          "Sohag",
          "South Sinai"
         ],
         "xaxis": "x",
         "y": [
          17666.666666666668,
          11666.666666666666,
          9875,
          6500,
          7826.460547504026,
          6500,
          8000,
          6894.08,
          6500,
          6783.333333333333,
          6312.5,
          5000,
          4166.666666666667,
          3560,
          1500,
          50,
          null,
          null,
          null,
          null,
          null,
          null,
          null,
          null,
          null,
          null
         ],
         "yaxis": "y"
        },
        {
         "alignmentgroup": "True",
         "hovertemplate": "variable=max_salary<br>city=%{x}<br>value=%{y}<extra></extra>",
         "legendgroup": "max_salary",
         "marker": {
          "color": "#EF553B",
          "pattern": {
           "shape": ""
          }
         },
         "name": "max_salary",
         "offsetgroup": "max_salary",
         "orientation": "v",
         "showlegend": true,
         "textposition": "auto",
         "type": "bar",
         "x": [
          "Monufya",
          "Red Sea",
          "Qalubia",
          "Beni Suef",
          "Cairo",
          "Matruh",
          "Fayoum",
          "Giza",
          "Gharbia",
          "Alexandria",
          "Sharqia",
          "Minya",
          "Assiut",
          "Damietta",
          "Port Said",
          "Suez",
          "Aswan",
          "Beheira",
          "Dakahlia",
          "Ismailia",
          "Kafr Alsheikh",
          "Luxor",
          "New Valley",
          "North Sinai",
          "Sohag",
          "South Sinai"
         ],
         "xaxis": "x",
         "y": [
          20666.666666666668,
          14000,
          12250,
          11625,
          11174.341384863124,
          11000,
          10000,
          9791.2,
          9750,
          9416.666666666666,
          7750,
          6000,
          5833.333333333333,
          4600,
          2000,
          60,
          null,
          null,
          null,
          null,
          null,
          null,
          null,
          null,
          null,
          null
         ],
         "yaxis": "y"
        }
       ],
       "layout": {
        "barmode": "relative",
        "legend": {
         "title": {
          "text": "variable"
         },
         "tracegroupgap": 0
        },
        "margin": {
         "t": 60
        },
        "template": {
         "data": {
          "bar": [
           {
            "error_x": {
             "color": "#2a3f5f"
            },
            "error_y": {
             "color": "#2a3f5f"
            },
            "marker": {
             "line": {
              "color": "#E5ECF6",
              "width": 0.5
             },
             "pattern": {
              "fillmode": "overlay",
              "size": 10,
              "solidity": 0.2
             }
            },
            "type": "bar"
           }
          ],
          "barpolar": [
           {
            "marker": {
             "line": {
              "color": "#E5ECF6",
              "width": 0.5
             },
             "pattern": {
              "fillmode": "overlay",
              "size": 10,
              "solidity": 0.2
             }
            },
            "type": "barpolar"
           }
          ],
          "carpet": [
           {
            "aaxis": {
             "endlinecolor": "#2a3f5f",
             "gridcolor": "white",
             "linecolor": "white",
             "minorgridcolor": "white",
             "startlinecolor": "#2a3f5f"
            },
            "baxis": {
             "endlinecolor": "#2a3f5f",
             "gridcolor": "white",
             "linecolor": "white",
             "minorgridcolor": "white",
             "startlinecolor": "#2a3f5f"
            },
            "type": "carpet"
           }
          ],
          "choropleth": [
           {
            "colorbar": {
             "outlinewidth": 0,
             "ticks": ""
            },
            "type": "choropleth"
           }
          ],
          "contour": [
           {
            "colorbar": {
             "outlinewidth": 0,
             "ticks": ""
            },
            "colorscale": [
             [
              0,
              "#0d0887"
             ],
             [
              0.1111111111111111,
              "#46039f"
             ],
             [
              0.2222222222222222,
              "#7201a8"
             ],
             [
              0.3333333333333333,
              "#9c179e"
             ],
             [
              0.4444444444444444,
              "#bd3786"
             ],
             [
              0.5555555555555556,
              "#d8576b"
             ],
             [
              0.6666666666666666,
              "#ed7953"
             ],
             [
              0.7777777777777778,
              "#fb9f3a"
             ],
             [
              0.8888888888888888,
              "#fdca26"
             ],
             [
              1,
              "#f0f921"
             ]
            ],
            "type": "contour"
           }
          ],
          "contourcarpet": [
           {
            "colorbar": {
             "outlinewidth": 0,
             "ticks": ""
            },
            "type": "contourcarpet"
           }
          ],
          "heatmap": [
           {
            "colorbar": {
             "outlinewidth": 0,
             "ticks": ""
            },
            "colorscale": [
             [
              0,
              "#0d0887"
             ],
             [
              0.1111111111111111,
              "#46039f"
             ],
             [
              0.2222222222222222,
              "#7201a8"
             ],
             [
              0.3333333333333333,
              "#9c179e"
             ],
             [
              0.4444444444444444,
              "#bd3786"
             ],
             [
              0.5555555555555556,
              "#d8576b"
             ],
             [
              0.6666666666666666,
              "#ed7953"
             ],
             [
              0.7777777777777778,
              "#fb9f3a"
             ],
             [
              0.8888888888888888,
              "#fdca26"
             ],
             [
              1,
              "#f0f921"
             ]
            ],
            "type": "heatmap"
           }
          ],
          "heatmapgl": [
           {
            "colorbar": {
             "outlinewidth": 0,
             "ticks": ""
            },
            "colorscale": [
             [
              0,
              "#0d0887"
             ],
             [
              0.1111111111111111,
              "#46039f"
             ],
             [
              0.2222222222222222,
              "#7201a8"
             ],
             [
              0.3333333333333333,
              "#9c179e"
             ],
             [
              0.4444444444444444,
              "#bd3786"
             ],
             [
              0.5555555555555556,
              "#d8576b"
             ],
             [
              0.6666666666666666,
              "#ed7953"
             ],
             [
              0.7777777777777778,
              "#fb9f3a"
             ],
             [
              0.8888888888888888,
              "#fdca26"
             ],
             [
              1,
              "#f0f921"
             ]
            ],
            "type": "heatmapgl"
           }
          ],
          "histogram": [
           {
            "marker": {
             "pattern": {
              "fillmode": "overlay",
              "size": 10,
              "solidity": 0.2
             }
            },
            "type": "histogram"
           }
          ],
          "histogram2d": [
           {
            "colorbar": {
             "outlinewidth": 0,
             "ticks": ""
            },
            "colorscale": [
             [
              0,
              "#0d0887"
             ],
             [
              0.1111111111111111,
              "#46039f"
             ],
             [
              0.2222222222222222,
              "#7201a8"
             ],
             [
              0.3333333333333333,
              "#9c179e"
             ],
             [
              0.4444444444444444,
              "#bd3786"
             ],
             [
              0.5555555555555556,
              "#d8576b"
             ],
             [
              0.6666666666666666,
              "#ed7953"
             ],
             [
              0.7777777777777778,
              "#fb9f3a"
             ],
             [
              0.8888888888888888,
              "#fdca26"
             ],
             [
              1,
              "#f0f921"
             ]
            ],
            "type": "histogram2d"
           }
          ],
          "histogram2dcontour": [
           {
            "colorbar": {
             "outlinewidth": 0,
             "ticks": ""
            },
            "colorscale": [
             [
              0,
              "#0d0887"
             ],
             [
              0.1111111111111111,
              "#46039f"
             ],
             [
              0.2222222222222222,
              "#7201a8"
             ],
             [
              0.3333333333333333,
              "#9c179e"
             ],
             [
              0.4444444444444444,
              "#bd3786"
             ],
             [
              0.5555555555555556,
              "#d8576b"
             ],
             [
              0.6666666666666666,
              "#ed7953"
             ],
             [
              0.7777777777777778,
              "#fb9f3a"
             ],
             [
              0.8888888888888888,
              "#fdca26"
             ],
             [
              1,
              "#f0f921"
             ]
            ],
            "type": "histogram2dcontour"
           }
          ],
          "mesh3d": [
           {
            "colorbar": {
             "outlinewidth": 0,
             "ticks": ""
            },
            "type": "mesh3d"
           }
          ],
          "parcoords": [
           {
            "line": {
             "colorbar": {
              "outlinewidth": 0,
              "ticks": ""
             }
            },
            "type": "parcoords"
           }
          ],
          "pie": [
           {
            "automargin": true,
            "type": "pie"
           }
          ],
          "scatter": [
           {
            "fillpattern": {
             "fillmode": "overlay",
             "size": 10,
             "solidity": 0.2
            },
            "type": "scatter"
           }
          ],
          "scatter3d": [
           {
            "line": {
             "colorbar": {
              "outlinewidth": 0,
              "ticks": ""
             }
            },
            "marker": {
             "colorbar": {
              "outlinewidth": 0,
              "ticks": ""
             }
            },
            "type": "scatter3d"
           }
          ],
          "scattercarpet": [
           {
            "marker": {
             "colorbar": {
              "outlinewidth": 0,
              "ticks": ""
             }
            },
            "type": "scattercarpet"
           }
          ],
          "scattergeo": [
           {
            "marker": {
             "colorbar": {
              "outlinewidth": 0,
              "ticks": ""
             }
            },
            "type": "scattergeo"
           }
          ],
          "scattergl": [
           {
            "marker": {
             "colorbar": {
              "outlinewidth": 0,
              "ticks": ""
             }
            },
            "type": "scattergl"
           }
          ],
          "scattermapbox": [
           {
            "marker": {
             "colorbar": {
              "outlinewidth": 0,
              "ticks": ""
             }
            },
            "type": "scattermapbox"
           }
          ],
          "scatterpolar": [
           {
            "marker": {
             "colorbar": {
              "outlinewidth": 0,
              "ticks": ""
             }
            },
            "type": "scatterpolar"
           }
          ],
          "scatterpolargl": [
           {
            "marker": {
             "colorbar": {
              "outlinewidth": 0,
              "ticks": ""
             }
            },
            "type": "scatterpolargl"
           }
          ],
          "scatterternary": [
           {
            "marker": {
             "colorbar": {
              "outlinewidth": 0,
              "ticks": ""
             }
            },
            "type": "scatterternary"
           }
          ],
          "surface": [
           {
            "colorbar": {
             "outlinewidth": 0,
             "ticks": ""
            },
            "colorscale": [
             [
              0,
              "#0d0887"
             ],
             [
              0.1111111111111111,
              "#46039f"
             ],
             [
              0.2222222222222222,
              "#7201a8"
             ],
             [
              0.3333333333333333,
              "#9c179e"
             ],
             [
              0.4444444444444444,
              "#bd3786"
             ],
             [
              0.5555555555555556,
              "#d8576b"
             ],
             [
              0.6666666666666666,
              "#ed7953"
             ],
             [
              0.7777777777777778,
              "#fb9f3a"
             ],
             [
              0.8888888888888888,
              "#fdca26"
             ],
             [
              1,
              "#f0f921"
             ]
            ],
            "type": "surface"
           }
          ],
          "table": [
           {
            "cells": {
             "fill": {
              "color": "#EBF0F8"
             },
             "line": {
              "color": "white"
             }
            },
            "header": {
             "fill": {
              "color": "#C8D4E3"
             },
             "line": {
              "color": "white"
             }
            },
            "type": "table"
           }
          ]
         },
         "layout": {
          "annotationdefaults": {
           "arrowcolor": "#2a3f5f",
           "arrowhead": 0,
           "arrowwidth": 1
          },
          "autotypenumbers": "strict",
          "coloraxis": {
           "colorbar": {
            "outlinewidth": 0,
            "ticks": ""
           }
          },
          "colorscale": {
           "diverging": [
            [
             0,
             "#8e0152"
            ],
            [
             0.1,
             "#c51b7d"
            ],
            [
             0.2,
             "#de77ae"
            ],
            [
             0.3,
             "#f1b6da"
            ],
            [
             0.4,
             "#fde0ef"
            ],
            [
             0.5,
             "#f7f7f7"
            ],
            [
             0.6,
             "#e6f5d0"
            ],
            [
             0.7,
             "#b8e186"
            ],
            [
             0.8,
             "#7fbc41"
            ],
            [
             0.9,
             "#4d9221"
            ],
            [
             1,
             "#276419"
            ]
           ],
           "sequential": [
            [
             0,
             "#0d0887"
            ],
            [
             0.1111111111111111,
             "#46039f"
            ],
            [
             0.2222222222222222,
             "#7201a8"
            ],
            [
             0.3333333333333333,
             "#9c179e"
            ],
            [
             0.4444444444444444,
             "#bd3786"
            ],
            [
             0.5555555555555556,
             "#d8576b"
            ],
            [
             0.6666666666666666,
             "#ed7953"
            ],
            [
             0.7777777777777778,
             "#fb9f3a"
            ],
            [
             0.8888888888888888,
             "#fdca26"
            ],
            [
             1,
             "#f0f921"
            ]
           ],
           "sequentialminus": [
            [
             0,
             "#0d0887"
            ],
            [
             0.1111111111111111,
             "#46039f"
            ],
            [
             0.2222222222222222,
             "#7201a8"
            ],
            [
             0.3333333333333333,
             "#9c179e"
            ],
            [
             0.4444444444444444,
             "#bd3786"
            ],
            [
             0.5555555555555556,
             "#d8576b"
            ],
            [
             0.6666666666666666,
             "#ed7953"
            ],
            [
             0.7777777777777778,
             "#fb9f3a"
            ],
            [
             0.8888888888888888,
             "#fdca26"
            ],
            [
             1,
             "#f0f921"
            ]
           ]
          },
          "colorway": [
           "#636efa",
           "#EF553B",
           "#00cc96",
           "#ab63fa",
           "#FFA15A",
           "#19d3f3",
           "#FF6692",
           "#B6E880",
           "#FF97FF",
           "#FECB52"
          ],
          "font": {
           "color": "#2a3f5f"
          },
          "geo": {
           "bgcolor": "white",
           "lakecolor": "white",
           "landcolor": "#E5ECF6",
           "showlakes": true,
           "showland": true,
           "subunitcolor": "white"
          },
          "hoverlabel": {
           "align": "left"
          },
          "hovermode": "closest",
          "mapbox": {
           "style": "light"
          },
          "paper_bgcolor": "white",
          "plot_bgcolor": "#E5ECF6",
          "polar": {
           "angularaxis": {
            "gridcolor": "white",
            "linecolor": "white",
            "ticks": ""
           },
           "bgcolor": "#E5ECF6",
           "radialaxis": {
            "gridcolor": "white",
            "linecolor": "white",
            "ticks": ""
           }
          },
          "scene": {
           "xaxis": {
            "backgroundcolor": "#E5ECF6",
            "gridcolor": "white",
            "gridwidth": 2,
            "linecolor": "white",
            "showbackground": true,
            "ticks": "",
            "zerolinecolor": "white"
           },
           "yaxis": {
            "backgroundcolor": "#E5ECF6",
            "gridcolor": "white",
            "gridwidth": 2,
            "linecolor": "white",
            "showbackground": true,
            "ticks": "",
            "zerolinecolor": "white"
           },
           "zaxis": {
            "backgroundcolor": "#E5ECF6",
            "gridcolor": "white",
            "gridwidth": 2,
            "linecolor": "white",
            "showbackground": true,
            "ticks": "",
            "zerolinecolor": "white"
           }
          },
          "shapedefaults": {
           "line": {
            "color": "#2a3f5f"
           }
          },
          "ternary": {
           "aaxis": {
            "gridcolor": "white",
            "linecolor": "white",
            "ticks": ""
           },
           "baxis": {
            "gridcolor": "white",
            "linecolor": "white",
            "ticks": ""
           },
           "bgcolor": "#E5ECF6",
           "caxis": {
            "gridcolor": "white",
            "linecolor": "white",
            "ticks": ""
           }
          },
          "title": {
           "x": 0.05
          },
          "xaxis": {
           "automargin": true,
           "gridcolor": "white",
           "linecolor": "white",
           "ticks": "",
           "title": {
            "standoff": 15
           },
           "zerolinecolor": "white",
           "zerolinewidth": 2
          },
          "yaxis": {
           "automargin": true,
           "gridcolor": "white",
           "linecolor": "white",
           "ticks": "",
           "title": {
            "standoff": 15
           },
           "zerolinecolor": "white",
           "zerolinewidth": 2
          }
         }
        },
        "xaxis": {
         "anchor": "y",
         "domain": [
          0,
          1
         ],
         "title": {
          "text": "city"
         }
        },
        "yaxis": {
         "anchor": "x",
         "domain": [
          0,
          1
         ],
         "title": {
          "text": "value"
         }
        }
       }
      }
     },
     "metadata": {},
     "output_type": "display_data"
    }
   ],
   "source": [
    "px.bar(data[data['country']=='Egypt'].groupby('city')[['min_salary','max_salary']].mean().sort_values('max_salary',ascending=False),)"
   ]
  },
  {
   "cell_type": "code",
   "execution_count": 13,
   "metadata": {},
   "outputs": [
    {
     "data": {
      "text/html": [
       "<div>\n",
       "<style scoped>\n",
       "    .dataframe tbody tr th:only-of-type {\n",
       "        vertical-align: middle;\n",
       "    }\n",
       "\n",
       "    .dataframe tbody tr th {\n",
       "        vertical-align: top;\n",
       "    }\n",
       "\n",
       "    .dataframe thead th {\n",
       "        text-align: right;\n",
       "    }\n",
       "</style>\n",
       "<table border=\"1\" class=\"dataframe\">\n",
       "  <thead>\n",
       "    <tr style=\"text-align: right;\">\n",
       "      <th></th>\n",
       "      <th>title</th>\n",
       "      <th>country</th>\n",
       "      <th>city</th>\n",
       "      <th>min_salary</th>\n",
       "      <th>max_salary</th>\n",
       "      <th>currency</th>\n",
       "    </tr>\n",
       "  </thead>\n",
       "  <tbody>\n",
       "    <tr>\n",
       "      <th>5496</th>\n",
       "      <td>Full Stack Developer (ASP.Net Core &amp; Angular 9...</td>\n",
       "      <td>Egypt</td>\n",
       "      <td>Alexandria</td>\n",
       "      <td>15000.0</td>\n",
       "      <td>30000.0</td>\n",
       "      <td>EGP</td>\n",
       "    </tr>\n",
       "    <tr>\n",
       "      <th>993</th>\n",
       "      <td>Senior Brand Designer</td>\n",
       "      <td>Egypt</td>\n",
       "      <td>Alexandria</td>\n",
       "      <td>8000.0</td>\n",
       "      <td>20000.0</td>\n",
       "      <td>EGP</td>\n",
       "    </tr>\n",
       "    <tr>\n",
       "      <th>1285</th>\n",
       "      <td>Chairman Office Manager - Alexandria</td>\n",
       "      <td>Egypt</td>\n",
       "      <td>Alexandria</td>\n",
       "      <td>12000.0</td>\n",
       "      <td>18000.0</td>\n",
       "      <td>EGP</td>\n",
       "    </tr>\n",
       "    <tr>\n",
       "      <th>4088</th>\n",
       "      <td>Flutter Developer</td>\n",
       "      <td>Egypt</td>\n",
       "      <td>Alexandria</td>\n",
       "      <td>12000.0</td>\n",
       "      <td>15000.0</td>\n",
       "      <td>EGP</td>\n",
       "    </tr>\n",
       "    <tr>\n",
       "      <th>6828</th>\n",
       "      <td>Customer Service Advisor - German - Alexandria</td>\n",
       "      <td>Egypt</td>\n",
       "      <td>Alexandria</td>\n",
       "      <td>13000.0</td>\n",
       "      <td>15000.0</td>\n",
       "      <td>EGP</td>\n",
       "    </tr>\n",
       "    <tr>\n",
       "      <th>4457</th>\n",
       "      <td>Senior Front End Developer</td>\n",
       "      <td>Egypt</td>\n",
       "      <td>Alexandria</td>\n",
       "      <td>10000.0</td>\n",
       "      <td>14000.0</td>\n",
       "      <td>EGP</td>\n",
       "    </tr>\n",
       "    <tr>\n",
       "      <th>2760</th>\n",
       "      <td>Videographer</td>\n",
       "      <td>Egypt</td>\n",
       "      <td>Alexandria</td>\n",
       "      <td>10000.0</td>\n",
       "      <td>14000.0</td>\n",
       "      <td>EGP</td>\n",
       "    </tr>\n",
       "    <tr>\n",
       "      <th>6830</th>\n",
       "      <td>Customer Service Advisor - Portuguese - Alexan...</td>\n",
       "      <td>Egypt</td>\n",
       "      <td>Alexandria</td>\n",
       "      <td>12000.0</td>\n",
       "      <td>14000.0</td>\n",
       "      <td>EGP</td>\n",
       "    </tr>\n",
       "    <tr>\n",
       "      <th>3399</th>\n",
       "      <td>Italian Customer Service Representative</td>\n",
       "      <td>Egypt</td>\n",
       "      <td>Alexandria</td>\n",
       "      <td>11500.0</td>\n",
       "      <td>12500.0</td>\n",
       "      <td>EGP</td>\n",
       "    </tr>\n",
       "    <tr>\n",
       "      <th>3280</th>\n",
       "      <td>Customer Service Representative - (Italian Spe...</td>\n",
       "      <td>Egypt</td>\n",
       "      <td>Alexandria</td>\n",
       "      <td>10000.0</td>\n",
       "      <td>12500.0</td>\n",
       "      <td>EGP</td>\n",
       "    </tr>\n",
       "    <tr>\n",
       "      <th>4092</th>\n",
       "      <td>Cost Accountant</td>\n",
       "      <td>Egypt</td>\n",
       "      <td>Alexandria</td>\n",
       "      <td>8000.0</td>\n",
       "      <td>12000.0</td>\n",
       "      <td>EGP</td>\n",
       "    </tr>\n",
       "    <tr>\n",
       "      <th>6829</th>\n",
       "      <td>Customer Service Advisor - Greek - Alexandria</td>\n",
       "      <td>Egypt</td>\n",
       "      <td>Alexandria</td>\n",
       "      <td>10000.0</td>\n",
       "      <td>12000.0</td>\n",
       "      <td>EGP</td>\n",
       "    </tr>\n",
       "    <tr>\n",
       "      <th>3899</th>\n",
       "      <td>Private English Teacher</td>\n",
       "      <td>Egypt</td>\n",
       "      <td>Alexandria</td>\n",
       "      <td>8000.0</td>\n",
       "      <td>12000.0</td>\n",
       "      <td>EGP</td>\n",
       "    </tr>\n",
       "    <tr>\n",
       "      <th>6832</th>\n",
       "      <td>Customer Service Advisor - Italian - Alexandria</td>\n",
       "      <td>Egypt</td>\n",
       "      <td>Alexandria</td>\n",
       "      <td>9000.0</td>\n",
       "      <td>12000.0</td>\n",
       "      <td>EGP</td>\n",
       "    </tr>\n",
       "    <tr>\n",
       "      <th>852</th>\n",
       "      <td>Online English Teachers (Writing Teachers)</td>\n",
       "      <td>Egypt</td>\n",
       "      <td>Alexandria</td>\n",
       "      <td>6000.0</td>\n",
       "      <td>12000.0</td>\n",
       "      <td>EGP</td>\n",
       "    </tr>\n",
       "    <tr>\n",
       "      <th>6834</th>\n",
       "      <td>Customer Service Advisor- French Speakers - Al...</td>\n",
       "      <td>Egypt</td>\n",
       "      <td>Alexandria</td>\n",
       "      <td>9000.0</td>\n",
       "      <td>12000.0</td>\n",
       "      <td>EGP</td>\n",
       "    </tr>\n",
       "    <tr>\n",
       "      <th>7606</th>\n",
       "      <td>Medical Representative - Alexandria</td>\n",
       "      <td>Egypt</td>\n",
       "      <td>Alexandria</td>\n",
       "      <td>8000.0</td>\n",
       "      <td>10500.0</td>\n",
       "      <td>EGP</td>\n",
       "    </tr>\n",
       "    <tr>\n",
       "      <th>6836</th>\n",
       "      <td>Customer Support Representative - English Spea...</td>\n",
       "      <td>Egypt</td>\n",
       "      <td>Alexandria</td>\n",
       "      <td>8000.0</td>\n",
       "      <td>10000.0</td>\n",
       "      <td>EGP</td>\n",
       "    </tr>\n",
       "    <tr>\n",
       "      <th>7483</th>\n",
       "      <td>Business Development Retail &amp; SME Specialist</td>\n",
       "      <td>Egypt</td>\n",
       "      <td>Alexandria</td>\n",
       "      <td>6000.0</td>\n",
       "      <td>10000.0</td>\n",
       "      <td>EGP</td>\n",
       "    </tr>\n",
       "    <tr>\n",
       "      <th>6349</th>\n",
       "      <td>Operations Manager</td>\n",
       "      <td>Egypt</td>\n",
       "      <td>Alexandria</td>\n",
       "      <td>4000.0</td>\n",
       "      <td>8000.0</td>\n",
       "      <td>EGP</td>\n",
       "    </tr>\n",
       "  </tbody>\n",
       "</table>\n",
       "</div>"
      ],
      "text/plain": [
       "                                                  title country        city  \\\n",
       "5496  Full Stack Developer (ASP.Net Core & Angular 9...   Egypt  Alexandria   \n",
       "993                               Senior Brand Designer   Egypt  Alexandria   \n",
       "1285               Chairman Office Manager - Alexandria   Egypt  Alexandria   \n",
       "4088                                  Flutter Developer   Egypt  Alexandria   \n",
       "6828     Customer Service Advisor - German - Alexandria   Egypt  Alexandria   \n",
       "4457                         Senior Front End Developer   Egypt  Alexandria   \n",
       "2760                                       Videographer   Egypt  Alexandria   \n",
       "6830  Customer Service Advisor - Portuguese - Alexan...   Egypt  Alexandria   \n",
       "3399            Italian Customer Service Representative   Egypt  Alexandria   \n",
       "3280  Customer Service Representative - (Italian Spe...   Egypt  Alexandria   \n",
       "4092                                    Cost Accountant   Egypt  Alexandria   \n",
       "6829      Customer Service Advisor - Greek - Alexandria   Egypt  Alexandria   \n",
       "3899                            Private English Teacher   Egypt  Alexandria   \n",
       "6832    Customer Service Advisor - Italian - Alexandria   Egypt  Alexandria   \n",
       "852          Online English Teachers (Writing Teachers)   Egypt  Alexandria   \n",
       "6834  Customer Service Advisor- French Speakers - Al...   Egypt  Alexandria   \n",
       "7606                Medical Representative - Alexandria   Egypt  Alexandria   \n",
       "6836  Customer Support Representative - English Spea...   Egypt  Alexandria   \n",
       "7483       Business Development Retail & SME Specialist   Egypt  Alexandria   \n",
       "6349                                 Operations Manager   Egypt  Alexandria   \n",
       "\n",
       "      min_salary  max_salary currency  \n",
       "5496     15000.0     30000.0      EGP  \n",
       "993       8000.0     20000.0      EGP  \n",
       "1285     12000.0     18000.0      EGP  \n",
       "4088     12000.0     15000.0      EGP  \n",
       "6828     13000.0     15000.0      EGP  \n",
       "4457     10000.0     14000.0      EGP  \n",
       "2760     10000.0     14000.0      EGP  \n",
       "6830     12000.0     14000.0      EGP  \n",
       "3399     11500.0     12500.0      EGP  \n",
       "3280     10000.0     12500.0      EGP  \n",
       "4092      8000.0     12000.0      EGP  \n",
       "6829     10000.0     12000.0      EGP  \n",
       "3899      8000.0     12000.0      EGP  \n",
       "6832      9000.0     12000.0      EGP  \n",
       "852       6000.0     12000.0      EGP  \n",
       "6834      9000.0     12000.0      EGP  \n",
       "7606      8000.0     10500.0      EGP  \n",
       "6836      8000.0     10000.0      EGP  \n",
       "7483      6000.0     10000.0      EGP  \n",
       "6349      4000.0      8000.0      EGP  "
      ]
     },
     "execution_count": 13,
     "metadata": {},
     "output_type": "execute_result"
    }
   ],
   "source": [
    "data[data['city']=='Alexandria'].sort_values('max_salary',ascending=False).head(20).iloc[:,1:]"
   ]
  },
  {
   "cell_type": "code",
   "execution_count": 14,
   "metadata": {},
   "outputs": [
    {
     "data": {
      "text/html": [
       "<div>\n",
       "<style scoped>\n",
       "    .dataframe tbody tr th:only-of-type {\n",
       "        vertical-align: middle;\n",
       "    }\n",
       "\n",
       "    .dataframe tbody tr th {\n",
       "        vertical-align: top;\n",
       "    }\n",
       "\n",
       "    .dataframe thead th {\n",
       "        text-align: right;\n",
       "    }\n",
       "</style>\n",
       "<table border=\"1\" class=\"dataframe\">\n",
       "  <thead>\n",
       "    <tr style=\"text-align: right;\">\n",
       "      <th></th>\n",
       "      <th>title</th>\n",
       "      <th>country</th>\n",
       "      <th>city</th>\n",
       "      <th>min_salary</th>\n",
       "      <th>max_salary</th>\n",
       "      <th>currency</th>\n",
       "    </tr>\n",
       "  </thead>\n",
       "  <tbody>\n",
       "    <tr>\n",
       "      <th>1928</th>\n",
       "      <td>Chief Technology Officer</td>\n",
       "      <td>Egypt</td>\n",
       "      <td>Cairo</td>\n",
       "      <td>70000.0</td>\n",
       "      <td>100000.0</td>\n",
       "      <td>EGP</td>\n",
       "    </tr>\n",
       "    <tr>\n",
       "      <th>2795</th>\n",
       "      <td>( Electrical Substation Construction Project M...</td>\n",
       "      <td>Egypt</td>\n",
       "      <td>Cairo</td>\n",
       "      <td>50000.0</td>\n",
       "      <td>70000.0</td>\n",
       "      <td>EGP</td>\n",
       "    </tr>\n",
       "    <tr>\n",
       "      <th>2632</th>\n",
       "      <td>Electrical Substation Construction Project Man...</td>\n",
       "      <td>Egypt</td>\n",
       "      <td>Cairo</td>\n",
       "      <td>50000.0</td>\n",
       "      <td>70000.0</td>\n",
       "      <td>EGP</td>\n",
       "    </tr>\n",
       "    <tr>\n",
       "      <th>5129</th>\n",
       "      <td>IT Manager EXHIBTA &amp;Sales Buzz Administrator</td>\n",
       "      <td>Egypt</td>\n",
       "      <td>Cairo</td>\n",
       "      <td>40000.0</td>\n",
       "      <td>60000.0</td>\n",
       "      <td>EGP</td>\n",
       "    </tr>\n",
       "    <tr>\n",
       "      <th>7430</th>\n",
       "      <td>Internal Audit Executive</td>\n",
       "      <td>Egypt</td>\n",
       "      <td>Giza</td>\n",
       "      <td>12000.0</td>\n",
       "      <td>50000.0</td>\n",
       "      <td>EGP</td>\n",
       "    </tr>\n",
       "    <tr>\n",
       "      <th>1390</th>\n",
       "      <td>Head OF Operations</td>\n",
       "      <td>Egypt</td>\n",
       "      <td>Cairo</td>\n",
       "      <td>30000.0</td>\n",
       "      <td>50000.0</td>\n",
       "      <td>EGP</td>\n",
       "    </tr>\n",
       "    <tr>\n",
       "      <th>6479</th>\n",
       "      <td>Senior Programmer</td>\n",
       "      <td>Egypt</td>\n",
       "      <td>Cairo</td>\n",
       "      <td>30000.0</td>\n",
       "      <td>50000.0</td>\n",
       "      <td>EGP</td>\n",
       "    </tr>\n",
       "    <tr>\n",
       "      <th>5730</th>\n",
       "      <td>Senior Project Manager (Banking)</td>\n",
       "      <td>Egypt</td>\n",
       "      <td>Cairo</td>\n",
       "      <td>25000.0</td>\n",
       "      <td>50000.0</td>\n",
       "      <td>EGP</td>\n",
       "    </tr>\n",
       "    <tr>\n",
       "      <th>5258</th>\n",
       "      <td>School Principal (American &amp; IB)</td>\n",
       "      <td>Egypt</td>\n",
       "      <td>Cairo</td>\n",
       "      <td>40000.0</td>\n",
       "      <td>50000.0</td>\n",
       "      <td>EGP</td>\n",
       "    </tr>\n",
       "    <tr>\n",
       "      <th>2155</th>\n",
       "      <td>Scrum Master Engineer</td>\n",
       "      <td>Egypt</td>\n",
       "      <td>Cairo</td>\n",
       "      <td>22000.0</td>\n",
       "      <td>45000.0</td>\n",
       "      <td>EGP</td>\n",
       "    </tr>\n",
       "    <tr>\n",
       "      <th>5150</th>\n",
       "      <td>Tech Lead Full Stack Software Engineer</td>\n",
       "      <td>Egypt</td>\n",
       "      <td>Cairo</td>\n",
       "      <td>30000.0</td>\n",
       "      <td>45000.0</td>\n",
       "      <td>SAR</td>\n",
       "    </tr>\n",
       "    <tr>\n",
       "      <th>2084</th>\n",
       "      <td>Senior Software Engineer</td>\n",
       "      <td>Egypt</td>\n",
       "      <td>Cairo</td>\n",
       "      <td>15000.0</td>\n",
       "      <td>42000.0</td>\n",
       "      <td>EGP</td>\n",
       "    </tr>\n",
       "    <tr>\n",
       "      <th>2471</th>\n",
       "      <td>Sales Manager</td>\n",
       "      <td>Egypt</td>\n",
       "      <td>Giza</td>\n",
       "      <td>20000.0</td>\n",
       "      <td>40000.0</td>\n",
       "      <td>EGP</td>\n",
       "    </tr>\n",
       "    <tr>\n",
       "      <th>7145</th>\n",
       "      <td>Senior Full Stack Developer</td>\n",
       "      <td>Egypt</td>\n",
       "      <td>Cairo</td>\n",
       "      <td>25000.0</td>\n",
       "      <td>40000.0</td>\n",
       "      <td>EGP</td>\n",
       "    </tr>\n",
       "    <tr>\n",
       "      <th>5838</th>\n",
       "      <td>Head OF Finance</td>\n",
       "      <td>Egypt</td>\n",
       "      <td>Cairo</td>\n",
       "      <td>30000.0</td>\n",
       "      <td>40000.0</td>\n",
       "      <td>EGP</td>\n",
       "    </tr>\n",
       "    <tr>\n",
       "      <th>881</th>\n",
       "      <td>Software Technical Lead</td>\n",
       "      <td>Egypt</td>\n",
       "      <td>Cairo</td>\n",
       "      <td>25000.0</td>\n",
       "      <td>40000.0</td>\n",
       "      <td>EGP</td>\n",
       "    </tr>\n",
       "    <tr>\n",
       "      <th>5267</th>\n",
       "      <td>Senior Java Developer</td>\n",
       "      <td>Egypt</td>\n",
       "      <td>Cairo</td>\n",
       "      <td>35000.0</td>\n",
       "      <td>40000.0</td>\n",
       "      <td>EGP</td>\n",
       "    </tr>\n",
       "    <tr>\n",
       "      <th>7595</th>\n",
       "      <td>Risk Manager</td>\n",
       "      <td>Egypt</td>\n",
       "      <td>Cairo</td>\n",
       "      <td>25000.0</td>\n",
       "      <td>40000.0</td>\n",
       "      <td>EGP</td>\n",
       "    </tr>\n",
       "    <tr>\n",
       "      <th>3384</th>\n",
       "      <td>Senior .NET Developer</td>\n",
       "      <td>Egypt</td>\n",
       "      <td>Giza</td>\n",
       "      <td>30000.0</td>\n",
       "      <td>40000.0</td>\n",
       "      <td>EGP</td>\n",
       "    </tr>\n",
       "    <tr>\n",
       "      <th>7346</th>\n",
       "      <td>Lead Full Stack Senior Developer</td>\n",
       "      <td>Egypt</td>\n",
       "      <td>Cairo</td>\n",
       "      <td>15000.0</td>\n",
       "      <td>40000.0</td>\n",
       "      <td>EGP</td>\n",
       "    </tr>\n",
       "  </tbody>\n",
       "</table>\n",
       "</div>"
      ],
      "text/plain": [
       "                                                  title country   city  \\\n",
       "1928                           Chief Technology Officer   Egypt  Cairo   \n",
       "2795  ( Electrical Substation Construction Project M...   Egypt  Cairo   \n",
       "2632  Electrical Substation Construction Project Man...   Egypt  Cairo   \n",
       "5129       IT Manager EXHIBTA &Sales Buzz Administrator   Egypt  Cairo   \n",
       "7430                           Internal Audit Executive   Egypt   Giza   \n",
       "1390                                 Head OF Operations   Egypt  Cairo   \n",
       "6479                                  Senior Programmer   Egypt  Cairo   \n",
       "5730                   Senior Project Manager (Banking)   Egypt  Cairo   \n",
       "5258                   School Principal (American & IB)   Egypt  Cairo   \n",
       "2155                              Scrum Master Engineer   Egypt  Cairo   \n",
       "5150             Tech Lead Full Stack Software Engineer   Egypt  Cairo   \n",
       "2084                           Senior Software Engineer   Egypt  Cairo   \n",
       "2471                                      Sales Manager   Egypt   Giza   \n",
       "7145                        Senior Full Stack Developer   Egypt  Cairo   \n",
       "5838                                    Head OF Finance   Egypt  Cairo   \n",
       "881                             Software Technical Lead   Egypt  Cairo   \n",
       "5267                              Senior Java Developer   Egypt  Cairo   \n",
       "7595                                       Risk Manager   Egypt  Cairo   \n",
       "3384                              Senior .NET Developer   Egypt   Giza   \n",
       "7346                   Lead Full Stack Senior Developer   Egypt  Cairo   \n",
       "\n",
       "      min_salary  max_salary currency  \n",
       "1928     70000.0    100000.0      EGP  \n",
       "2795     50000.0     70000.0      EGP  \n",
       "2632     50000.0     70000.0      EGP  \n",
       "5129     40000.0     60000.0      EGP  \n",
       "7430     12000.0     50000.0      EGP  \n",
       "1390     30000.0     50000.0      EGP  \n",
       "6479     30000.0     50000.0      EGP  \n",
       "5730     25000.0     50000.0      EGP  \n",
       "5258     40000.0     50000.0      EGP  \n",
       "2155     22000.0     45000.0      EGP  \n",
       "5150     30000.0     45000.0      SAR  \n",
       "2084     15000.0     42000.0      EGP  \n",
       "2471     20000.0     40000.0      EGP  \n",
       "7145     25000.0     40000.0      EGP  \n",
       "5838     30000.0     40000.0      EGP  \n",
       "881      25000.0     40000.0      EGP  \n",
       "5267     35000.0     40000.0      EGP  \n",
       "7595     25000.0     40000.0      EGP  \n",
       "3384     30000.0     40000.0      EGP  \n",
       "7346     15000.0     40000.0      EGP  "
      ]
     },
     "execution_count": 14,
     "metadata": {},
     "output_type": "execute_result"
    }
   ],
   "source": [
    "data[(data['city']=='Cairo') | (data['city']=='Giza')].sort_values('max_salary',ascending=False).head(20).iloc[:,1:]"
   ]
  },
  {
   "cell_type": "code",
   "execution_count": 15,
   "metadata": {},
   "outputs": [
    {
     "data": {
      "application/vnd.plotly.v1+json": {
       "config": {
        "plotlyServerURL": "https://plot.ly"
       },
       "data": [
        {
         "alignmentgroup": "True",
         "hovertemplate": "variable=title<br>index=%{x}<br>value=%{y}<extra></extra>",
         "legendgroup": "title",
         "marker": {
          "color": "#636efa",
          "pattern": {
           "shape": ""
          }
         },
         "name": "title",
         "offsetgroup": "title",
         "orientation": "v",
         "showlegend": true,
         "textposition": "auto",
         "type": "bar",
         "x": [
          "Accountant",
          "General Accountant",
          "Sales Representative",
          "Graphic Designer",
          "Receptionist",
          "Senior Accountant",
          "Secretary",
          "Sales Manager",
          "Project Manager",
          "Production Engineer",
          "Sales Engineer",
          "Social Media Specialist",
          "Call Center Agent",
          "HR Specialist",
          "Sales Executive",
          "Marketing Manager",
          "Human Resources Generalist",
          "Marketing Specialist",
          "Technical Office Engineer",
          "Recruitment Specialist"
         ],
         "xaxis": "x",
         "y": [
          69,
          49,
          48,
          48,
          35,
          32,
          30,
          28,
          27,
          25,
          25,
          25,
          24,
          24,
          24,
          23,
          23,
          23,
          22,
          21
         ],
         "yaxis": "y"
        }
       ],
       "layout": {
        "barmode": "relative",
        "legend": {
         "title": {
          "text": "variable"
         },
         "tracegroupgap": 0
        },
        "margin": {
         "t": 60
        },
        "template": {
         "data": {
          "bar": [
           {
            "error_x": {
             "color": "#2a3f5f"
            },
            "error_y": {
             "color": "#2a3f5f"
            },
            "marker": {
             "line": {
              "color": "#E5ECF6",
              "width": 0.5
             },
             "pattern": {
              "fillmode": "overlay",
              "size": 10,
              "solidity": 0.2
             }
            },
            "type": "bar"
           }
          ],
          "barpolar": [
           {
            "marker": {
             "line": {
              "color": "#E5ECF6",
              "width": 0.5
             },
             "pattern": {
              "fillmode": "overlay",
              "size": 10,
              "solidity": 0.2
             }
            },
            "type": "barpolar"
           }
          ],
          "carpet": [
           {
            "aaxis": {
             "endlinecolor": "#2a3f5f",
             "gridcolor": "white",
             "linecolor": "white",
             "minorgridcolor": "white",
             "startlinecolor": "#2a3f5f"
            },
            "baxis": {
             "endlinecolor": "#2a3f5f",
             "gridcolor": "white",
             "linecolor": "white",
             "minorgridcolor": "white",
             "startlinecolor": "#2a3f5f"
            },
            "type": "carpet"
           }
          ],
          "choropleth": [
           {
            "colorbar": {
             "outlinewidth": 0,
             "ticks": ""
            },
            "type": "choropleth"
           }
          ],
          "contour": [
           {
            "colorbar": {
             "outlinewidth": 0,
             "ticks": ""
            },
            "colorscale": [
             [
              0,
              "#0d0887"
             ],
             [
              0.1111111111111111,
              "#46039f"
             ],
             [
              0.2222222222222222,
              "#7201a8"
             ],
             [
              0.3333333333333333,
              "#9c179e"
             ],
             [
              0.4444444444444444,
              "#bd3786"
             ],
             [
              0.5555555555555556,
              "#d8576b"
             ],
             [
              0.6666666666666666,
              "#ed7953"
             ],
             [
              0.7777777777777778,
              "#fb9f3a"
             ],
             [
              0.8888888888888888,
              "#fdca26"
             ],
             [
              1,
              "#f0f921"
             ]
            ],
            "type": "contour"
           }
          ],
          "contourcarpet": [
           {
            "colorbar": {
             "outlinewidth": 0,
             "ticks": ""
            },
            "type": "contourcarpet"
           }
          ],
          "heatmap": [
           {
            "colorbar": {
             "outlinewidth": 0,
             "ticks": ""
            },
            "colorscale": [
             [
              0,
              "#0d0887"
             ],
             [
              0.1111111111111111,
              "#46039f"
             ],
             [
              0.2222222222222222,
              "#7201a8"
             ],
             [
              0.3333333333333333,
              "#9c179e"
             ],
             [
              0.4444444444444444,
              "#bd3786"
             ],
             [
              0.5555555555555556,
              "#d8576b"
             ],
             [
              0.6666666666666666,
              "#ed7953"
             ],
             [
              0.7777777777777778,
              "#fb9f3a"
             ],
             [
              0.8888888888888888,
              "#fdca26"
             ],
             [
              1,
              "#f0f921"
             ]
            ],
            "type": "heatmap"
           }
          ],
          "heatmapgl": [
           {
            "colorbar": {
             "outlinewidth": 0,
             "ticks": ""
            },
            "colorscale": [
             [
              0,
              "#0d0887"
             ],
             [
              0.1111111111111111,
              "#46039f"
             ],
             [
              0.2222222222222222,
              "#7201a8"
             ],
             [
              0.3333333333333333,
              "#9c179e"
             ],
             [
              0.4444444444444444,
              "#bd3786"
             ],
             [
              0.5555555555555556,
              "#d8576b"
             ],
             [
              0.6666666666666666,
              "#ed7953"
             ],
             [
              0.7777777777777778,
              "#fb9f3a"
             ],
             [
              0.8888888888888888,
              "#fdca26"
             ],
             [
              1,
              "#f0f921"
             ]
            ],
            "type": "heatmapgl"
           }
          ],
          "histogram": [
           {
            "marker": {
             "pattern": {
              "fillmode": "overlay",
              "size": 10,
              "solidity": 0.2
             }
            },
            "type": "histogram"
           }
          ],
          "histogram2d": [
           {
            "colorbar": {
             "outlinewidth": 0,
             "ticks": ""
            },
            "colorscale": [
             [
              0,
              "#0d0887"
             ],
             [
              0.1111111111111111,
              "#46039f"
             ],
             [
              0.2222222222222222,
              "#7201a8"
             ],
             [
              0.3333333333333333,
              "#9c179e"
             ],
             [
              0.4444444444444444,
              "#bd3786"
             ],
             [
              0.5555555555555556,
              "#d8576b"
             ],
             [
              0.6666666666666666,
              "#ed7953"
             ],
             [
              0.7777777777777778,
              "#fb9f3a"
             ],
             [
              0.8888888888888888,
              "#fdca26"
             ],
             [
              1,
              "#f0f921"
             ]
            ],
            "type": "histogram2d"
           }
          ],
          "histogram2dcontour": [
           {
            "colorbar": {
             "outlinewidth": 0,
             "ticks": ""
            },
            "colorscale": [
             [
              0,
              "#0d0887"
             ],
             [
              0.1111111111111111,
              "#46039f"
             ],
             [
              0.2222222222222222,
              "#7201a8"
             ],
             [
              0.3333333333333333,
              "#9c179e"
             ],
             [
              0.4444444444444444,
              "#bd3786"
             ],
             [
              0.5555555555555556,
              "#d8576b"
             ],
             [
              0.6666666666666666,
              "#ed7953"
             ],
             [
              0.7777777777777778,
              "#fb9f3a"
             ],
             [
              0.8888888888888888,
              "#fdca26"
             ],
             [
              1,
              "#f0f921"
             ]
            ],
            "type": "histogram2dcontour"
           }
          ],
          "mesh3d": [
           {
            "colorbar": {
             "outlinewidth": 0,
             "ticks": ""
            },
            "type": "mesh3d"
           }
          ],
          "parcoords": [
           {
            "line": {
             "colorbar": {
              "outlinewidth": 0,
              "ticks": ""
             }
            },
            "type": "parcoords"
           }
          ],
          "pie": [
           {
            "automargin": true,
            "type": "pie"
           }
          ],
          "scatter": [
           {
            "fillpattern": {
             "fillmode": "overlay",
             "size": 10,
             "solidity": 0.2
            },
            "type": "scatter"
           }
          ],
          "scatter3d": [
           {
            "line": {
             "colorbar": {
              "outlinewidth": 0,
              "ticks": ""
             }
            },
            "marker": {
             "colorbar": {
              "outlinewidth": 0,
              "ticks": ""
             }
            },
            "type": "scatter3d"
           }
          ],
          "scattercarpet": [
           {
            "marker": {
             "colorbar": {
              "outlinewidth": 0,
              "ticks": ""
             }
            },
            "type": "scattercarpet"
           }
          ],
          "scattergeo": [
           {
            "marker": {
             "colorbar": {
              "outlinewidth": 0,
              "ticks": ""
             }
            },
            "type": "scattergeo"
           }
          ],
          "scattergl": [
           {
            "marker": {
             "colorbar": {
              "outlinewidth": 0,
              "ticks": ""
             }
            },
            "type": "scattergl"
           }
          ],
          "scattermapbox": [
           {
            "marker": {
             "colorbar": {
              "outlinewidth": 0,
              "ticks": ""
             }
            },
            "type": "scattermapbox"
           }
          ],
          "scatterpolar": [
           {
            "marker": {
             "colorbar": {
              "outlinewidth": 0,
              "ticks": ""
             }
            },
            "type": "scatterpolar"
           }
          ],
          "scatterpolargl": [
           {
            "marker": {
             "colorbar": {
              "outlinewidth": 0,
              "ticks": ""
             }
            },
            "type": "scatterpolargl"
           }
          ],
          "scatterternary": [
           {
            "marker": {
             "colorbar": {
              "outlinewidth": 0,
              "ticks": ""
             }
            },
            "type": "scatterternary"
           }
          ],
          "surface": [
           {
            "colorbar": {
             "outlinewidth": 0,
             "ticks": ""
            },
            "colorscale": [
             [
              0,
              "#0d0887"
             ],
             [
              0.1111111111111111,
              "#46039f"
             ],
             [
              0.2222222222222222,
              "#7201a8"
             ],
             [
              0.3333333333333333,
              "#9c179e"
             ],
             [
              0.4444444444444444,
              "#bd3786"
             ],
             [
              0.5555555555555556,
              "#d8576b"
             ],
             [
              0.6666666666666666,
              "#ed7953"
             ],
             [
              0.7777777777777778,
              "#fb9f3a"
             ],
             [
              0.8888888888888888,
              "#fdca26"
             ],
             [
              1,
              "#f0f921"
             ]
            ],
            "type": "surface"
           }
          ],
          "table": [
           {
            "cells": {
             "fill": {
              "color": "#EBF0F8"
             },
             "line": {
              "color": "white"
             }
            },
            "header": {
             "fill": {
              "color": "#C8D4E3"
             },
             "line": {
              "color": "white"
             }
            },
            "type": "table"
           }
          ]
         },
         "layout": {
          "annotationdefaults": {
           "arrowcolor": "#2a3f5f",
           "arrowhead": 0,
           "arrowwidth": 1
          },
          "autotypenumbers": "strict",
          "coloraxis": {
           "colorbar": {
            "outlinewidth": 0,
            "ticks": ""
           }
          },
          "colorscale": {
           "diverging": [
            [
             0,
             "#8e0152"
            ],
            [
             0.1,
             "#c51b7d"
            ],
            [
             0.2,
             "#de77ae"
            ],
            [
             0.3,
             "#f1b6da"
            ],
            [
             0.4,
             "#fde0ef"
            ],
            [
             0.5,
             "#f7f7f7"
            ],
            [
             0.6,
             "#e6f5d0"
            ],
            [
             0.7,
             "#b8e186"
            ],
            [
             0.8,
             "#7fbc41"
            ],
            [
             0.9,
             "#4d9221"
            ],
            [
             1,
             "#276419"
            ]
           ],
           "sequential": [
            [
             0,
             "#0d0887"
            ],
            [
             0.1111111111111111,
             "#46039f"
            ],
            [
             0.2222222222222222,
             "#7201a8"
            ],
            [
             0.3333333333333333,
             "#9c179e"
            ],
            [
             0.4444444444444444,
             "#bd3786"
            ],
            [
             0.5555555555555556,
             "#d8576b"
            ],
            [
             0.6666666666666666,
             "#ed7953"
            ],
            [
             0.7777777777777778,
             "#fb9f3a"
            ],
            [
             0.8888888888888888,
             "#fdca26"
            ],
            [
             1,
             "#f0f921"
            ]
           ],
           "sequentialminus": [
            [
             0,
             "#0d0887"
            ],
            [
             0.1111111111111111,
             "#46039f"
            ],
            [
             0.2222222222222222,
             "#7201a8"
            ],
            [
             0.3333333333333333,
             "#9c179e"
            ],
            [
             0.4444444444444444,
             "#bd3786"
            ],
            [
             0.5555555555555556,
             "#d8576b"
            ],
            [
             0.6666666666666666,
             "#ed7953"
            ],
            [
             0.7777777777777778,
             "#fb9f3a"
            ],
            [
             0.8888888888888888,
             "#fdca26"
            ],
            [
             1,
             "#f0f921"
            ]
           ]
          },
          "colorway": [
           "#636efa",
           "#EF553B",
           "#00cc96",
           "#ab63fa",
           "#FFA15A",
           "#19d3f3",
           "#FF6692",
           "#B6E880",
           "#FF97FF",
           "#FECB52"
          ],
          "font": {
           "color": "#2a3f5f"
          },
          "geo": {
           "bgcolor": "white",
           "lakecolor": "white",
           "landcolor": "#E5ECF6",
           "showlakes": true,
           "showland": true,
           "subunitcolor": "white"
          },
          "hoverlabel": {
           "align": "left"
          },
          "hovermode": "closest",
          "mapbox": {
           "style": "light"
          },
          "paper_bgcolor": "white",
          "plot_bgcolor": "#E5ECF6",
          "polar": {
           "angularaxis": {
            "gridcolor": "white",
            "linecolor": "white",
            "ticks": ""
           },
           "bgcolor": "#E5ECF6",
           "radialaxis": {
            "gridcolor": "white",
            "linecolor": "white",
            "ticks": ""
           }
          },
          "scene": {
           "xaxis": {
            "backgroundcolor": "#E5ECF6",
            "gridcolor": "white",
            "gridwidth": 2,
            "linecolor": "white",
            "showbackground": true,
            "ticks": "",
            "zerolinecolor": "white"
           },
           "yaxis": {
            "backgroundcolor": "#E5ECF6",
            "gridcolor": "white",
            "gridwidth": 2,
            "linecolor": "white",
            "showbackground": true,
            "ticks": "",
            "zerolinecolor": "white"
           },
           "zaxis": {
            "backgroundcolor": "#E5ECF6",
            "gridcolor": "white",
            "gridwidth": 2,
            "linecolor": "white",
            "showbackground": true,
            "ticks": "",
            "zerolinecolor": "white"
           }
          },
          "shapedefaults": {
           "line": {
            "color": "#2a3f5f"
           }
          },
          "ternary": {
           "aaxis": {
            "gridcolor": "white",
            "linecolor": "white",
            "ticks": ""
           },
           "baxis": {
            "gridcolor": "white",
            "linecolor": "white",
            "ticks": ""
           },
           "bgcolor": "#E5ECF6",
           "caxis": {
            "gridcolor": "white",
            "linecolor": "white",
            "ticks": ""
           }
          },
          "title": {
           "x": 0.05
          },
          "xaxis": {
           "automargin": true,
           "gridcolor": "white",
           "linecolor": "white",
           "ticks": "",
           "title": {
            "standoff": 15
           },
           "zerolinecolor": "white",
           "zerolinewidth": 2
          },
          "yaxis": {
           "automargin": true,
           "gridcolor": "white",
           "linecolor": "white",
           "ticks": "",
           "title": {
            "standoff": 15
           },
           "zerolinecolor": "white",
           "zerolinewidth": 2
          }
         }
        },
        "xaxis": {
         "anchor": "y",
         "domain": [
          0,
          1
         ],
         "title": {
          "text": "index"
         }
        },
        "yaxis": {
         "anchor": "x",
         "domain": [
          0,
          1
         ],
         "title": {
          "text": "value"
         }
        }
       }
      }
     },
     "metadata": {},
     "output_type": "display_data"
    }
   ],
   "source": [
    "px.bar(data['title'].value_counts().head(20))"
   ]
  },
  {
   "cell_type": "code",
   "execution_count": 16,
   "metadata": {},
   "outputs": [
    {
     "data": {
      "application/vnd.plotly.v1+json": {
       "config": {
        "plotlyServerURL": "https://plot.ly"
       },
       "data": [
        {
         "alignmentgroup": "True",
         "hovertemplate": "variable=title<br>index=%{x}<br>value=%{y}<extra></extra>",
         "legendgroup": "title",
         "marker": {
          "color": "#636efa",
          "pattern": {
           "shape": ""
          }
         },
         "name": "title",
         "offsetgroup": "title",
         "orientation": "v",
         "showlegend": true,
         "textposition": "auto",
         "type": "bar",
         "x": [
          "Data Analyst",
          "Data Entry Specialist",
          "Database Administrator",
          "Data Entry Clerk",
          "Oracle Database Administrator",
          "Senior Database Developer",
          "Senior Database Administrator",
          "ETL Developer (Data Engineer)",
          "MS SQL Database Administrator",
          "Oracle Data Platform Team lead",
          "Microsoft SQL Database Senior Administrator",
          "Data Entry Specialist (Maady)",
          "Data Center Engineer",
          "Data Archiving Specialist",
          "Senior Data Architect",
          "Senior SQL Database Developer",
          "Oracle Database Developer",
          "SQL Data Platform Deputy Manager",
          "SQL Data Platform Team lead",
          "Sr. Backend/Database Engineer"
         ],
         "xaxis": "x",
         "y": [
          8,
          6,
          5,
          5,
          3,
          2,
          2,
          2,
          2,
          1,
          1,
          1,
          1,
          1,
          1,
          1,
          1,
          1,
          1,
          1
         ],
         "yaxis": "y"
        }
       ],
       "layout": {
        "barmode": "relative",
        "legend": {
         "title": {
          "text": "variable"
         },
         "tracegroupgap": 0
        },
        "margin": {
         "t": 60
        },
        "template": {
         "data": {
          "bar": [
           {
            "error_x": {
             "color": "#2a3f5f"
            },
            "error_y": {
             "color": "#2a3f5f"
            },
            "marker": {
             "line": {
              "color": "#E5ECF6",
              "width": 0.5
             },
             "pattern": {
              "fillmode": "overlay",
              "size": 10,
              "solidity": 0.2
             }
            },
            "type": "bar"
           }
          ],
          "barpolar": [
           {
            "marker": {
             "line": {
              "color": "#E5ECF6",
              "width": 0.5
             },
             "pattern": {
              "fillmode": "overlay",
              "size": 10,
              "solidity": 0.2
             }
            },
            "type": "barpolar"
           }
          ],
          "carpet": [
           {
            "aaxis": {
             "endlinecolor": "#2a3f5f",
             "gridcolor": "white",
             "linecolor": "white",
             "minorgridcolor": "white",
             "startlinecolor": "#2a3f5f"
            },
            "baxis": {
             "endlinecolor": "#2a3f5f",
             "gridcolor": "white",
             "linecolor": "white",
             "minorgridcolor": "white",
             "startlinecolor": "#2a3f5f"
            },
            "type": "carpet"
           }
          ],
          "choropleth": [
           {
            "colorbar": {
             "outlinewidth": 0,
             "ticks": ""
            },
            "type": "choropleth"
           }
          ],
          "contour": [
           {
            "colorbar": {
             "outlinewidth": 0,
             "ticks": ""
            },
            "colorscale": [
             [
              0,
              "#0d0887"
             ],
             [
              0.1111111111111111,
              "#46039f"
             ],
             [
              0.2222222222222222,
              "#7201a8"
             ],
             [
              0.3333333333333333,
              "#9c179e"
             ],
             [
              0.4444444444444444,
              "#bd3786"
             ],
             [
              0.5555555555555556,
              "#d8576b"
             ],
             [
              0.6666666666666666,
              "#ed7953"
             ],
             [
              0.7777777777777778,
              "#fb9f3a"
             ],
             [
              0.8888888888888888,
              "#fdca26"
             ],
             [
              1,
              "#f0f921"
             ]
            ],
            "type": "contour"
           }
          ],
          "contourcarpet": [
           {
            "colorbar": {
             "outlinewidth": 0,
             "ticks": ""
            },
            "type": "contourcarpet"
           }
          ],
          "heatmap": [
           {
            "colorbar": {
             "outlinewidth": 0,
             "ticks": ""
            },
            "colorscale": [
             [
              0,
              "#0d0887"
             ],
             [
              0.1111111111111111,
              "#46039f"
             ],
             [
              0.2222222222222222,
              "#7201a8"
             ],
             [
              0.3333333333333333,
              "#9c179e"
             ],
             [
              0.4444444444444444,
              "#bd3786"
             ],
             [
              0.5555555555555556,
              "#d8576b"
             ],
             [
              0.6666666666666666,
              "#ed7953"
             ],
             [
              0.7777777777777778,
              "#fb9f3a"
             ],
             [
              0.8888888888888888,
              "#fdca26"
             ],
             [
              1,
              "#f0f921"
             ]
            ],
            "type": "heatmap"
           }
          ],
          "heatmapgl": [
           {
            "colorbar": {
             "outlinewidth": 0,
             "ticks": ""
            },
            "colorscale": [
             [
              0,
              "#0d0887"
             ],
             [
              0.1111111111111111,
              "#46039f"
             ],
             [
              0.2222222222222222,
              "#7201a8"
             ],
             [
              0.3333333333333333,
              "#9c179e"
             ],
             [
              0.4444444444444444,
              "#bd3786"
             ],
             [
              0.5555555555555556,
              "#d8576b"
             ],
             [
              0.6666666666666666,
              "#ed7953"
             ],
             [
              0.7777777777777778,
              "#fb9f3a"
             ],
             [
              0.8888888888888888,
              "#fdca26"
             ],
             [
              1,
              "#f0f921"
             ]
            ],
            "type": "heatmapgl"
           }
          ],
          "histogram": [
           {
            "marker": {
             "pattern": {
              "fillmode": "overlay",
              "size": 10,
              "solidity": 0.2
             }
            },
            "type": "histogram"
           }
          ],
          "histogram2d": [
           {
            "colorbar": {
             "outlinewidth": 0,
             "ticks": ""
            },
            "colorscale": [
             [
              0,
              "#0d0887"
             ],
             [
              0.1111111111111111,
              "#46039f"
             ],
             [
              0.2222222222222222,
              "#7201a8"
             ],
             [
              0.3333333333333333,
              "#9c179e"
             ],
             [
              0.4444444444444444,
              "#bd3786"
             ],
             [
              0.5555555555555556,
              "#d8576b"
             ],
             [
              0.6666666666666666,
              "#ed7953"
             ],
             [
              0.7777777777777778,
              "#fb9f3a"
             ],
             [
              0.8888888888888888,
              "#fdca26"
             ],
             [
              1,
              "#f0f921"
             ]
            ],
            "type": "histogram2d"
           }
          ],
          "histogram2dcontour": [
           {
            "colorbar": {
             "outlinewidth": 0,
             "ticks": ""
            },
            "colorscale": [
             [
              0,
              "#0d0887"
             ],
             [
              0.1111111111111111,
              "#46039f"
             ],
             [
              0.2222222222222222,
              "#7201a8"
             ],
             [
              0.3333333333333333,
              "#9c179e"
             ],
             [
              0.4444444444444444,
              "#bd3786"
             ],
             [
              0.5555555555555556,
              "#d8576b"
             ],
             [
              0.6666666666666666,
              "#ed7953"
             ],
             [
              0.7777777777777778,
              "#fb9f3a"
             ],
             [
              0.8888888888888888,
              "#fdca26"
             ],
             [
              1,
              "#f0f921"
             ]
            ],
            "type": "histogram2dcontour"
           }
          ],
          "mesh3d": [
           {
            "colorbar": {
             "outlinewidth": 0,
             "ticks": ""
            },
            "type": "mesh3d"
           }
          ],
          "parcoords": [
           {
            "line": {
             "colorbar": {
              "outlinewidth": 0,
              "ticks": ""
             }
            },
            "type": "parcoords"
           }
          ],
          "pie": [
           {
            "automargin": true,
            "type": "pie"
           }
          ],
          "scatter": [
           {
            "fillpattern": {
             "fillmode": "overlay",
             "size": 10,
             "solidity": 0.2
            },
            "type": "scatter"
           }
          ],
          "scatter3d": [
           {
            "line": {
             "colorbar": {
              "outlinewidth": 0,
              "ticks": ""
             }
            },
            "marker": {
             "colorbar": {
              "outlinewidth": 0,
              "ticks": ""
             }
            },
            "type": "scatter3d"
           }
          ],
          "scattercarpet": [
           {
            "marker": {
             "colorbar": {
              "outlinewidth": 0,
              "ticks": ""
             }
            },
            "type": "scattercarpet"
           }
          ],
          "scattergeo": [
           {
            "marker": {
             "colorbar": {
              "outlinewidth": 0,
              "ticks": ""
             }
            },
            "type": "scattergeo"
           }
          ],
          "scattergl": [
           {
            "marker": {
             "colorbar": {
              "outlinewidth": 0,
              "ticks": ""
             }
            },
            "type": "scattergl"
           }
          ],
          "scattermapbox": [
           {
            "marker": {
             "colorbar": {
              "outlinewidth": 0,
              "ticks": ""
             }
            },
            "type": "scattermapbox"
           }
          ],
          "scatterpolar": [
           {
            "marker": {
             "colorbar": {
              "outlinewidth": 0,
              "ticks": ""
             }
            },
            "type": "scatterpolar"
           }
          ],
          "scatterpolargl": [
           {
            "marker": {
             "colorbar": {
              "outlinewidth": 0,
              "ticks": ""
             }
            },
            "type": "scatterpolargl"
           }
          ],
          "scatterternary": [
           {
            "marker": {
             "colorbar": {
              "outlinewidth": 0,
              "ticks": ""
             }
            },
            "type": "scatterternary"
           }
          ],
          "surface": [
           {
            "colorbar": {
             "outlinewidth": 0,
             "ticks": ""
            },
            "colorscale": [
             [
              0,
              "#0d0887"
             ],
             [
              0.1111111111111111,
              "#46039f"
             ],
             [
              0.2222222222222222,
              "#7201a8"
             ],
             [
              0.3333333333333333,
              "#9c179e"
             ],
             [
              0.4444444444444444,
              "#bd3786"
             ],
             [
              0.5555555555555556,
              "#d8576b"
             ],
             [
              0.6666666666666666,
              "#ed7953"
             ],
             [
              0.7777777777777778,
              "#fb9f3a"
             ],
             [
              0.8888888888888888,
              "#fdca26"
             ],
             [
              1,
              "#f0f921"
             ]
            ],
            "type": "surface"
           }
          ],
          "table": [
           {
            "cells": {
             "fill": {
              "color": "#EBF0F8"
             },
             "line": {
              "color": "white"
             }
            },
            "header": {
             "fill": {
              "color": "#C8D4E3"
             },
             "line": {
              "color": "white"
             }
            },
            "type": "table"
           }
          ]
         },
         "layout": {
          "annotationdefaults": {
           "arrowcolor": "#2a3f5f",
           "arrowhead": 0,
           "arrowwidth": 1
          },
          "autotypenumbers": "strict",
          "coloraxis": {
           "colorbar": {
            "outlinewidth": 0,
            "ticks": ""
           }
          },
          "colorscale": {
           "diverging": [
            [
             0,
             "#8e0152"
            ],
            [
             0.1,
             "#c51b7d"
            ],
            [
             0.2,
             "#de77ae"
            ],
            [
             0.3,
             "#f1b6da"
            ],
            [
             0.4,
             "#fde0ef"
            ],
            [
             0.5,
             "#f7f7f7"
            ],
            [
             0.6,
             "#e6f5d0"
            ],
            [
             0.7,
             "#b8e186"
            ],
            [
             0.8,
             "#7fbc41"
            ],
            [
             0.9,
             "#4d9221"
            ],
            [
             1,
             "#276419"
            ]
           ],
           "sequential": [
            [
             0,
             "#0d0887"
            ],
            [
             0.1111111111111111,
             "#46039f"
            ],
            [
             0.2222222222222222,
             "#7201a8"
            ],
            [
             0.3333333333333333,
             "#9c179e"
            ],
            [
             0.4444444444444444,
             "#bd3786"
            ],
            [
             0.5555555555555556,
             "#d8576b"
            ],
            [
             0.6666666666666666,
             "#ed7953"
            ],
            [
             0.7777777777777778,
             "#fb9f3a"
            ],
            [
             0.8888888888888888,
             "#fdca26"
            ],
            [
             1,
             "#f0f921"
            ]
           ],
           "sequentialminus": [
            [
             0,
             "#0d0887"
            ],
            [
             0.1111111111111111,
             "#46039f"
            ],
            [
             0.2222222222222222,
             "#7201a8"
            ],
            [
             0.3333333333333333,
             "#9c179e"
            ],
            [
             0.4444444444444444,
             "#bd3786"
            ],
            [
             0.5555555555555556,
             "#d8576b"
            ],
            [
             0.6666666666666666,
             "#ed7953"
            ],
            [
             0.7777777777777778,
             "#fb9f3a"
            ],
            [
             0.8888888888888888,
             "#fdca26"
            ],
            [
             1,
             "#f0f921"
            ]
           ]
          },
          "colorway": [
           "#636efa",
           "#EF553B",
           "#00cc96",
           "#ab63fa",
           "#FFA15A",
           "#19d3f3",
           "#FF6692",
           "#B6E880",
           "#FF97FF",
           "#FECB52"
          ],
          "font": {
           "color": "#2a3f5f"
          },
          "geo": {
           "bgcolor": "white",
           "lakecolor": "white",
           "landcolor": "#E5ECF6",
           "showlakes": true,
           "showland": true,
           "subunitcolor": "white"
          },
          "hoverlabel": {
           "align": "left"
          },
          "hovermode": "closest",
          "mapbox": {
           "style": "light"
          },
          "paper_bgcolor": "white",
          "plot_bgcolor": "#E5ECF6",
          "polar": {
           "angularaxis": {
            "gridcolor": "white",
            "linecolor": "white",
            "ticks": ""
           },
           "bgcolor": "#E5ECF6",
           "radialaxis": {
            "gridcolor": "white",
            "linecolor": "white",
            "ticks": ""
           }
          },
          "scene": {
           "xaxis": {
            "backgroundcolor": "#E5ECF6",
            "gridcolor": "white",
            "gridwidth": 2,
            "linecolor": "white",
            "showbackground": true,
            "ticks": "",
            "zerolinecolor": "white"
           },
           "yaxis": {
            "backgroundcolor": "#E5ECF6",
            "gridcolor": "white",
            "gridwidth": 2,
            "linecolor": "white",
            "showbackground": true,
            "ticks": "",
            "zerolinecolor": "white"
           },
           "zaxis": {
            "backgroundcolor": "#E5ECF6",
            "gridcolor": "white",
            "gridwidth": 2,
            "linecolor": "white",
            "showbackground": true,
            "ticks": "",
            "zerolinecolor": "white"
           }
          },
          "shapedefaults": {
           "line": {
            "color": "#2a3f5f"
           }
          },
          "ternary": {
           "aaxis": {
            "gridcolor": "white",
            "linecolor": "white",
            "ticks": ""
           },
           "baxis": {
            "gridcolor": "white",
            "linecolor": "white",
            "ticks": ""
           },
           "bgcolor": "#E5ECF6",
           "caxis": {
            "gridcolor": "white",
            "linecolor": "white",
            "ticks": ""
           }
          },
          "title": {
           "x": 0.05
          },
          "xaxis": {
           "automargin": true,
           "gridcolor": "white",
           "linecolor": "white",
           "ticks": "",
           "title": {
            "standoff": 15
           },
           "zerolinecolor": "white",
           "zerolinewidth": 2
          },
          "yaxis": {
           "automargin": true,
           "gridcolor": "white",
           "linecolor": "white",
           "ticks": "",
           "title": {
            "standoff": 15
           },
           "zerolinecolor": "white",
           "zerolinewidth": 2
          }
         }
        },
        "xaxis": {
         "anchor": "y",
         "domain": [
          0,
          1
         ],
         "title": {
          "text": "index"
         }
        },
        "yaxis": {
         "anchor": "x",
         "domain": [
          0,
          1
         ],
         "title": {
          "text": "value"
         }
        }
       }
      }
     },
     "metadata": {},
     "output_type": "display_data"
    }
   ],
   "source": [
    "px.bar(data[data['title'].str.contains('data',flags=re.IGNORECASE)].title.value_counts().head(20))"
   ]
  },
  {
   "cell_type": "code",
   "execution_count": 17,
   "metadata": {},
   "outputs": [
    {
     "data": {
      "text/html": [
       "<div>\n",
       "<style scoped>\n",
       "    .dataframe tbody tr th:only-of-type {\n",
       "        vertical-align: middle;\n",
       "    }\n",
       "\n",
       "    .dataframe tbody tr th {\n",
       "        vertical-align: top;\n",
       "    }\n",
       "\n",
       "    .dataframe thead th {\n",
       "        text-align: right;\n",
       "    }\n",
       "</style>\n",
       "<table border=\"1\" class=\"dataframe\">\n",
       "  <thead>\n",
       "    <tr style=\"text-align: right;\">\n",
       "      <th></th>\n",
       "      <th>id</th>\n",
       "      <th>title</th>\n",
       "      <th>country</th>\n",
       "      <th>city</th>\n",
       "      <th>min_salary</th>\n",
       "      <th>max_salary</th>\n",
       "      <th>currency</th>\n",
       "    </tr>\n",
       "  </thead>\n",
       "  <tbody>\n",
       "    <tr>\n",
       "      <th>490</th>\n",
       "      <td>18a859b4-3f37-403c-9eab-39545db32d91</td>\n",
       "      <td>Data Analyst</td>\n",
       "      <td>Egypt</td>\n",
       "      <td>Cairo</td>\n",
       "      <td>NaN</td>\n",
       "      <td>NaN</td>\n",
       "      <td>NaN</td>\n",
       "    </tr>\n",
       "    <tr>\n",
       "      <th>1030</th>\n",
       "      <td>812d7827-3ba9-4df6-94de-13d7cd3bd23c</td>\n",
       "      <td>Data Analyst</td>\n",
       "      <td>Egypt</td>\n",
       "      <td>Cairo</td>\n",
       "      <td>NaN</td>\n",
       "      <td>NaN</td>\n",
       "      <td>NaN</td>\n",
       "    </tr>\n",
       "    <tr>\n",
       "      <th>1215</th>\n",
       "      <td>7025a3c1-94df-4999-a290-a19f9d4c9f36</td>\n",
       "      <td>Data Analyst</td>\n",
       "      <td>Egypt</td>\n",
       "      <td>Cairo</td>\n",
       "      <td>NaN</td>\n",
       "      <td>NaN</td>\n",
       "      <td>NaN</td>\n",
       "    </tr>\n",
       "    <tr>\n",
       "      <th>5177</th>\n",
       "      <td>5bec023f-1018-4f8a-b2e6-0ddeb89ab604</td>\n",
       "      <td>Data Analyst</td>\n",
       "      <td>Egypt</td>\n",
       "      <td>Cairo</td>\n",
       "      <td>NaN</td>\n",
       "      <td>NaN</td>\n",
       "      <td>NaN</td>\n",
       "    </tr>\n",
       "    <tr>\n",
       "      <th>5291</th>\n",
       "      <td>fd4b0245-fdda-4ea2-8caa-80098bd5aac8</td>\n",
       "      <td>Data Analyst</td>\n",
       "      <td>Egypt</td>\n",
       "      <td>Cairo</td>\n",
       "      <td>NaN</td>\n",
       "      <td>NaN</td>\n",
       "      <td>NaN</td>\n",
       "    </tr>\n",
       "    <tr>\n",
       "      <th>5796</th>\n",
       "      <td>70495f45-ce86-454c-8efe-e9d9028d6941</td>\n",
       "      <td>Data Analyst</td>\n",
       "      <td>Egypt</td>\n",
       "      <td>Cairo</td>\n",
       "      <td>NaN</td>\n",
       "      <td>NaN</td>\n",
       "      <td>NaN</td>\n",
       "    </tr>\n",
       "    <tr>\n",
       "      <th>5986</th>\n",
       "      <td>f25623c5-aed8-4e17-b46a-24c0fa94512f</td>\n",
       "      <td>Data Analyst</td>\n",
       "      <td>Egypt</td>\n",
       "      <td>Cairo</td>\n",
       "      <td>NaN</td>\n",
       "      <td>NaN</td>\n",
       "      <td>NaN</td>\n",
       "    </tr>\n",
       "    <tr>\n",
       "      <th>6167</th>\n",
       "      <td>1e0d2560-b8fd-4cb1-b42b-358c8d7bc858</td>\n",
       "      <td>Data Analyst</td>\n",
       "      <td>Egypt</td>\n",
       "      <td>Cairo</td>\n",
       "      <td>NaN</td>\n",
       "      <td>NaN</td>\n",
       "      <td>NaN</td>\n",
       "    </tr>\n",
       "  </tbody>\n",
       "</table>\n",
       "</div>"
      ],
      "text/plain": [
       "                                        id         title country   city  \\\n",
       "490   18a859b4-3f37-403c-9eab-39545db32d91  Data Analyst   Egypt  Cairo   \n",
       "1030  812d7827-3ba9-4df6-94de-13d7cd3bd23c  Data Analyst   Egypt  Cairo   \n",
       "1215  7025a3c1-94df-4999-a290-a19f9d4c9f36  Data Analyst   Egypt  Cairo   \n",
       "5177  5bec023f-1018-4f8a-b2e6-0ddeb89ab604  Data Analyst   Egypt  Cairo   \n",
       "5291  fd4b0245-fdda-4ea2-8caa-80098bd5aac8  Data Analyst   Egypt  Cairo   \n",
       "5796  70495f45-ce86-454c-8efe-e9d9028d6941  Data Analyst   Egypt  Cairo   \n",
       "5986  f25623c5-aed8-4e17-b46a-24c0fa94512f  Data Analyst   Egypt  Cairo   \n",
       "6167  1e0d2560-b8fd-4cb1-b42b-358c8d7bc858  Data Analyst   Egypt  Cairo   \n",
       "\n",
       "      min_salary  max_salary currency  \n",
       "490          NaN         NaN      NaN  \n",
       "1030         NaN         NaN      NaN  \n",
       "1215         NaN         NaN      NaN  \n",
       "5177         NaN         NaN      NaN  \n",
       "5291         NaN         NaN      NaN  \n",
       "5796         NaN         NaN      NaN  \n",
       "5986         NaN         NaN      NaN  \n",
       "6167         NaN         NaN      NaN  "
      ]
     },
     "execution_count": 17,
     "metadata": {},
     "output_type": "execute_result"
    }
   ],
   "source": [
    "data[data['title'] == 'Data Analyst']"
   ]
  },
  {
   "cell_type": "code",
   "execution_count": 35,
   "metadata": {},
   "outputs": [
    {
     "data": {
      "application/vnd.plotly.v1+json": {
       "config": {
        "plotlyServerURL": "https://plot.ly"
       },
       "data": [
        {
         "alignmentgroup": "True",
         "bingroup": "x",
         "hovertemplate": "variable=max_salary<br>value=%{x}<br>count=%{y}<extra></extra>",
         "legendgroup": "max_salary",
         "marker": {
          "color": "#636efa",
          "pattern": {
           "shape": ""
          }
         },
         "name": "max_salary",
         "offsetgroup": "max_salary",
         "orientation": "v",
         "showlegend": true,
         "type": "histogram",
         "x": [
          7000,
          5000,
          5000,
          9000,
          7600,
          8300,
          6500,
          8300,
          8300,
          18000,
          4900,
          6300,
          4500,
          7500,
          13000,
          8000,
          12000,
          5500,
          8000,
          1500,
          15000,
          4,
          4500,
          6300,
          7500,
          8000,
          10000,
          7000,
          7000,
          3500,
          20000,
          8000,
          8000,
          9000,
          10000,
          3300,
          11000,
          8300,
          6300,
          20000,
          9000,
          8000,
          6300,
          25000,
          20000,
          25000,
          6300,
          9500,
          8000,
          3500,
          5000,
          9000,
          15000,
          8000,
          6500,
          25000,
          5500,
          10000,
          7000,
          8000,
          5500,
          7300,
          22000,
          6000,
          20000,
          4900,
          5000,
          55,
          12000,
          5000,
          950,
          6300,
          9000,
          5000,
          12000,
          10000,
          10000,
          18000,
          9000,
          9000,
          7000,
          12000,
          15000,
          6000,
          4500,
          8000,
          8000,
          6500,
          13000,
          5500,
          7000,
          5000,
          30000,
          8000,
          5500,
          8500,
          35000,
          7000,
          7000,
          7300,
          6300,
          7000,
          5000,
          8000,
          4500,
          4000,
          6300,
          7000,
          8000,
          12000,
          15000,
          10000,
          6825,
          7000,
          25000,
          20000,
          9000,
          12000,
          6500,
          8000,
          6000,
          7300,
          12000,
          5000,
          40000,
          6000,
          10000,
          6300,
          10000,
          5000,
          10000,
          7300,
          7000,
          7500,
          18000,
          8000,
          10000,
          16000,
          16000,
          20000,
          6300,
          7000,
          7000,
          8000,
          2500,
          3000,
          3000,
          6300,
          18000,
          8000,
          6500,
          3500,
          7600,
          15000,
          7300,
          10000,
          8000,
          6825,
          7000,
          18500,
          15000,
          9000,
          8000,
          6300,
          6300,
          6300,
          35000,
          7000,
          8000,
          20000,
          7000,
          15000,
          18000,
          0,
          9000,
          6400,
          4500,
          5800,
          15000,
          20000,
          7300,
          8000,
          6500,
          7000,
          5000,
          15000,
          15000,
          50000,
          5400,
          12000,
          10000,
          5000,
          60,
          8000,
          6000,
          10000,
          12000,
          3500,
          6000,
          7300,
          7000,
          5500,
          5000,
          4000,
          2500,
          25000,
          12000,
          6000,
          7300,
          12000,
          6000,
          6000,
          3000,
          4000,
          4000,
          3000,
          12000,
          5400,
          5400,
          3000,
          5800,
          7300,
          7000,
          5500,
          11000,
          27000,
          8000,
          13000,
          6000,
          10000,
          8000,
          6000,
          8000,
          12000,
          230,
          150,
          3500,
          5400,
          7000,
          10000,
          2500,
          100000,
          3000,
          8000,
          4000,
          6500,
          10000,
          6500,
          6000,
          4000,
          10000,
          33000,
          30000,
          35000,
          5500,
          8000,
          80,
          15000,
          42000,
          3000,
          10000,
          5000,
          7300,
          30000,
          7000,
          5000,
          45000,
          6000,
          14000,
          3800,
          6500,
          6000,
          15000,
          15000,
          9000,
          7500,
          6000,
          6000,
          10000,
          2000,
          2000,
          4000,
          7000,
          5000,
          12000,
          3500,
          10000,
          4900,
          9500,
          7300,
          7500,
          9000,
          6300,
          6500,
          6000,
          15000,
          20000,
          6000,
          4000,
          5400,
          15000,
          9000,
          9000,
          35000,
          40000,
          9500,
          6000,
          5400,
          35000,
          14000,
          7300,
          6000,
          30000,
          13000,
          5000,
          5000,
          5000,
          5000,
          4000,
          8000,
          12000,
          70000,
          8000,
          6000,
          30000,
          12000,
          8000,
          12000,
          7300,
          20000,
          10000,
          10000,
          7000,
          5000,
          6000,
          10000,
          8000,
          20000,
          14000,
          35000,
          10000,
          17000,
          8000,
          5000,
          12000,
          70000,
          6000,
          6000,
          12000,
          5000,
          12000,
          5400,
          5400,
          4500,
          6300,
          12000,
          13000,
          7300,
          18000,
          17000,
          7500,
          8000,
          17000,
          7000,
          13400,
          7000,
          5000,
          9000,
          8000,
          7000,
          7000,
          10000,
          7000,
          12000,
          3000,
          8000,
          5000,
          5000,
          3500,
          20000,
          3500,
          9000,
          5000,
          10000,
          12000,
          10000,
          6000,
          4500,
          6300,
          6000,
          7000,
          6500,
          7000,
          7300,
          10000,
          80,
          12000,
          6000,
          4500,
          6500,
          5500,
          9000,
          4900,
          20000,
          30000,
          15000,
          13000,
          15000,
          12000,
          10000,
          12500,
          25000,
          10000,
          3300,
          3000,
          6300,
          25000,
          5000,
          5500,
          25000,
          7000,
          9000,
          25000,
          14000,
          14000,
          10700,
          10000,
          8000,
          12000,
          28000,
          9000,
          10000,
          25000,
          0,
          40000,
          15000,
          12500,
          10000,
          12000,
          8500,
          6300,
          11000,
          12000,
          11000,
          5000,
          8000,
          4000,
          10000,
          7500,
          4000,
          14000,
          5000,
          7000,
          11000,
          5500,
          12000,
          6300,
          7300,
          8000,
          27000,
          27000,
          10000,
          5000,
          6000,
          12000,
          3500,
          9000,
          0,
          20000,
          4500,
          15000,
          3000,
          5000,
          8000,
          4500,
          9000,
          6300,
          7500,
          13000,
          12000,
          7000,
          7500,
          6500,
          10000,
          10000,
          3500,
          8000,
          14000,
          6000,
          4500,
          16000,
          6300,
          20000,
          12000,
          15000,
          12000,
          2200,
          9000,
          8000,
          15000,
          5500,
          10000,
          12000,
          30000,
          8000,
          7000,
          8000,
          10000,
          10000,
          5000,
          6500,
          12000,
          3500,
          160,
          5000,
          7100,
          6000,
          5500,
          15000,
          4000,
          4500,
          8000,
          8000,
          7000,
          12000,
          10000,
          6500,
          4400,
          5000,
          10000,
          10000,
          7000,
          8000,
          30000,
          4500,
          14000,
          5000,
          20000,
          20000,
          10000,
          18000,
          14000,
          5500,
          14000,
          20000,
          15000,
          15000,
          9000,
          12000,
          20000,
          5000,
          5000,
          5500,
          8000,
          7000,
          12000,
          5500,
          7000,
          30000,
          6300,
          10000,
          4000,
          25000,
          20000,
          5000,
          14000,
          9000,
          6000,
          8000,
          5500,
          12000,
          6000,
          4500,
          7600,
          25000,
          7000,
          8000,
          6000,
          20000,
          7000,
          15000,
          10000,
          6500,
          5000,
          10000,
          7000,
          18000,
          20000,
          12000,
          14000,
          12000,
          11000,
          15000,
          7000,
          7000,
          10000,
          7500,
          10000,
          8000,
          6000,
          5800,
          7000,
          60000,
          4000,
          10000,
          8000,
          4000,
          7500,
          7000,
          14000,
          9000,
          6000,
          50000,
          40000,
          10000,
          27000,
          27000,
          6000,
          5000,
          7000,
          6500,
          4000,
          3500,
          3500,
          4500,
          30000,
          10000,
          6000,
          4000,
          20000,
          8000,
          2000,
          30000,
          6000,
          5500,
          15000,
          5000,
          18000,
          6000,
          10000,
          12000,
          20000,
          12000,
          6000,
          4000,
          10000,
          6000,
          10000,
          50000,
          20000,
          20000,
          5000,
          15000,
          5500,
          5000,
          10000,
          25000,
          50000,
          24000,
          6000,
          10000,
          3500,
          5000,
          7500,
          20000,
          36000,
          5000,
          80,
          12000,
          40000,
          14000,
          14000,
          22000,
          10000,
          27000,
          11500,
          30000,
          0,
          3500,
          9000,
          3500,
          3000,
          1500,
          12000,
          12500,
          15000,
          25000,
          2000,
          6000,
          10000,
          10000,
          8000,
          6000,
          6000,
          7500,
          9000,
          6500,
          12000,
          4000,
          20000,
          25000,
          10000,
          6000,
          5000,
          20000,
          14000,
          6000,
          6400,
          6500,
          6000,
          7000,
          6500,
          6000,
          12000,
          9000,
          17000,
          16000,
          6000,
          5000,
          8000,
          15000,
          10000,
          6000,
          4000,
          10000,
          10000,
          8000,
          6500,
          25000,
          12000,
          6500,
          5500,
          4000,
          6000,
          12000,
          12000,
          6000,
          4000,
          50000,
          20000,
          9000,
          8000,
          10000,
          9400,
          12500,
          4000,
          6000,
          3000,
          15000,
          6000,
          10000,
          12000,
          12000,
          80,
          15000,
          15000,
          3250,
          10000,
          6000,
          12000,
          6000,
          6500,
          6000,
          15000,
          12000,
          15000,
          15000,
          12000,
          14000,
          12000,
          12000,
          10000,
          19000,
          4500,
          6000,
          8000,
          8000,
          1200,
          4000,
          2500,
          10000,
          17000,
          15000,
          14000,
          8000,
          18000,
          7000,
          6000,
          7300,
          10000,
          8000,
          30000,
          10000,
          8000,
          6000,
          9000,
          4500,
          3500,
          10000,
          35000,
          25000,
          40000,
          35000,
          4000,
          7000,
          5000,
          30000,
          4500,
          4000,
          15000,
          5000,
          15000,
          8000,
          8000,
          6000,
          10000,
          6000,
          19000,
          11000,
          100,
          27000,
          4000,
          7000,
          18000,
          40000,
          5000,
          15000,
          25000,
          10000,
          20000,
          15000,
          10000,
          15000,
          6000,
          25000,
          13000,
          10000,
          10000,
          50000,
          6500,
          10000,
          6000,
          6000,
          8000,
          4000,
          5000,
          19000,
          40000,
          6000,
          10500,
          10500,
          8000,
          7000,
          7000,
          17000
         ],
         "xaxis": "x",
         "yaxis": "y"
        }
       ],
       "layout": {
        "barmode": "relative",
        "legend": {
         "title": {
          "text": "variable"
         },
         "tracegroupgap": 0
        },
        "margin": {
         "t": 60
        },
        "template": {
         "data": {
          "bar": [
           {
            "error_x": {
             "color": "#2a3f5f"
            },
            "error_y": {
             "color": "#2a3f5f"
            },
            "marker": {
             "line": {
              "color": "#E5ECF6",
              "width": 0.5
             },
             "pattern": {
              "fillmode": "overlay",
              "size": 10,
              "solidity": 0.2
             }
            },
            "type": "bar"
           }
          ],
          "barpolar": [
           {
            "marker": {
             "line": {
              "color": "#E5ECF6",
              "width": 0.5
             },
             "pattern": {
              "fillmode": "overlay",
              "size": 10,
              "solidity": 0.2
             }
            },
            "type": "barpolar"
           }
          ],
          "carpet": [
           {
            "aaxis": {
             "endlinecolor": "#2a3f5f",
             "gridcolor": "white",
             "linecolor": "white",
             "minorgridcolor": "white",
             "startlinecolor": "#2a3f5f"
            },
            "baxis": {
             "endlinecolor": "#2a3f5f",
             "gridcolor": "white",
             "linecolor": "white",
             "minorgridcolor": "white",
             "startlinecolor": "#2a3f5f"
            },
            "type": "carpet"
           }
          ],
          "choropleth": [
           {
            "colorbar": {
             "outlinewidth": 0,
             "ticks": ""
            },
            "type": "choropleth"
           }
          ],
          "contour": [
           {
            "colorbar": {
             "outlinewidth": 0,
             "ticks": ""
            },
            "colorscale": [
             [
              0,
              "#0d0887"
             ],
             [
              0.1111111111111111,
              "#46039f"
             ],
             [
              0.2222222222222222,
              "#7201a8"
             ],
             [
              0.3333333333333333,
              "#9c179e"
             ],
             [
              0.4444444444444444,
              "#bd3786"
             ],
             [
              0.5555555555555556,
              "#d8576b"
             ],
             [
              0.6666666666666666,
              "#ed7953"
             ],
             [
              0.7777777777777778,
              "#fb9f3a"
             ],
             [
              0.8888888888888888,
              "#fdca26"
             ],
             [
              1,
              "#f0f921"
             ]
            ],
            "type": "contour"
           }
          ],
          "contourcarpet": [
           {
            "colorbar": {
             "outlinewidth": 0,
             "ticks": ""
            },
            "type": "contourcarpet"
           }
          ],
          "heatmap": [
           {
            "colorbar": {
             "outlinewidth": 0,
             "ticks": ""
            },
            "colorscale": [
             [
              0,
              "#0d0887"
             ],
             [
              0.1111111111111111,
              "#46039f"
             ],
             [
              0.2222222222222222,
              "#7201a8"
             ],
             [
              0.3333333333333333,
              "#9c179e"
             ],
             [
              0.4444444444444444,
              "#bd3786"
             ],
             [
              0.5555555555555556,
              "#d8576b"
             ],
             [
              0.6666666666666666,
              "#ed7953"
             ],
             [
              0.7777777777777778,
              "#fb9f3a"
             ],
             [
              0.8888888888888888,
              "#fdca26"
             ],
             [
              1,
              "#f0f921"
             ]
            ],
            "type": "heatmap"
           }
          ],
          "heatmapgl": [
           {
            "colorbar": {
             "outlinewidth": 0,
             "ticks": ""
            },
            "colorscale": [
             [
              0,
              "#0d0887"
             ],
             [
              0.1111111111111111,
              "#46039f"
             ],
             [
              0.2222222222222222,
              "#7201a8"
             ],
             [
              0.3333333333333333,
              "#9c179e"
             ],
             [
              0.4444444444444444,
              "#bd3786"
             ],
             [
              0.5555555555555556,
              "#d8576b"
             ],
             [
              0.6666666666666666,
              "#ed7953"
             ],
             [
              0.7777777777777778,
              "#fb9f3a"
             ],
             [
              0.8888888888888888,
              "#fdca26"
             ],
             [
              1,
              "#f0f921"
             ]
            ],
            "type": "heatmapgl"
           }
          ],
          "histogram": [
           {
            "marker": {
             "pattern": {
              "fillmode": "overlay",
              "size": 10,
              "solidity": 0.2
             }
            },
            "type": "histogram"
           }
          ],
          "histogram2d": [
           {
            "colorbar": {
             "outlinewidth": 0,
             "ticks": ""
            },
            "colorscale": [
             [
              0,
              "#0d0887"
             ],
             [
              0.1111111111111111,
              "#46039f"
             ],
             [
              0.2222222222222222,
              "#7201a8"
             ],
             [
              0.3333333333333333,
              "#9c179e"
             ],
             [
              0.4444444444444444,
              "#bd3786"
             ],
             [
              0.5555555555555556,
              "#d8576b"
             ],
             [
              0.6666666666666666,
              "#ed7953"
             ],
             [
              0.7777777777777778,
              "#fb9f3a"
             ],
             [
              0.8888888888888888,
              "#fdca26"
             ],
             [
              1,
              "#f0f921"
             ]
            ],
            "type": "histogram2d"
           }
          ],
          "histogram2dcontour": [
           {
            "colorbar": {
             "outlinewidth": 0,
             "ticks": ""
            },
            "colorscale": [
             [
              0,
              "#0d0887"
             ],
             [
              0.1111111111111111,
              "#46039f"
             ],
             [
              0.2222222222222222,
              "#7201a8"
             ],
             [
              0.3333333333333333,
              "#9c179e"
             ],
             [
              0.4444444444444444,
              "#bd3786"
             ],
             [
              0.5555555555555556,
              "#d8576b"
             ],
             [
              0.6666666666666666,
              "#ed7953"
             ],
             [
              0.7777777777777778,
              "#fb9f3a"
             ],
             [
              0.8888888888888888,
              "#fdca26"
             ],
             [
              1,
              "#f0f921"
             ]
            ],
            "type": "histogram2dcontour"
           }
          ],
          "mesh3d": [
           {
            "colorbar": {
             "outlinewidth": 0,
             "ticks": ""
            },
            "type": "mesh3d"
           }
          ],
          "parcoords": [
           {
            "line": {
             "colorbar": {
              "outlinewidth": 0,
              "ticks": ""
             }
            },
            "type": "parcoords"
           }
          ],
          "pie": [
           {
            "automargin": true,
            "type": "pie"
           }
          ],
          "scatter": [
           {
            "fillpattern": {
             "fillmode": "overlay",
             "size": 10,
             "solidity": 0.2
            },
            "type": "scatter"
           }
          ],
          "scatter3d": [
           {
            "line": {
             "colorbar": {
              "outlinewidth": 0,
              "ticks": ""
             }
            },
            "marker": {
             "colorbar": {
              "outlinewidth": 0,
              "ticks": ""
             }
            },
            "type": "scatter3d"
           }
          ],
          "scattercarpet": [
           {
            "marker": {
             "colorbar": {
              "outlinewidth": 0,
              "ticks": ""
             }
            },
            "type": "scattercarpet"
           }
          ],
          "scattergeo": [
           {
            "marker": {
             "colorbar": {
              "outlinewidth": 0,
              "ticks": ""
             }
            },
            "type": "scattergeo"
           }
          ],
          "scattergl": [
           {
            "marker": {
             "colorbar": {
              "outlinewidth": 0,
              "ticks": ""
             }
            },
            "type": "scattergl"
           }
          ],
          "scattermapbox": [
           {
            "marker": {
             "colorbar": {
              "outlinewidth": 0,
              "ticks": ""
             }
            },
            "type": "scattermapbox"
           }
          ],
          "scatterpolar": [
           {
            "marker": {
             "colorbar": {
              "outlinewidth": 0,
              "ticks": ""
             }
            },
            "type": "scatterpolar"
           }
          ],
          "scatterpolargl": [
           {
            "marker": {
             "colorbar": {
              "outlinewidth": 0,
              "ticks": ""
             }
            },
            "type": "scatterpolargl"
           }
          ],
          "scatterternary": [
           {
            "marker": {
             "colorbar": {
              "outlinewidth": 0,
              "ticks": ""
             }
            },
            "type": "scatterternary"
           }
          ],
          "surface": [
           {
            "colorbar": {
             "outlinewidth": 0,
             "ticks": ""
            },
            "colorscale": [
             [
              0,
              "#0d0887"
             ],
             [
              0.1111111111111111,
              "#46039f"
             ],
             [
              0.2222222222222222,
              "#7201a8"
             ],
             [
              0.3333333333333333,
              "#9c179e"
             ],
             [
              0.4444444444444444,
              "#bd3786"
             ],
             [
              0.5555555555555556,
              "#d8576b"
             ],
             [
              0.6666666666666666,
              "#ed7953"
             ],
             [
              0.7777777777777778,
              "#fb9f3a"
             ],
             [
              0.8888888888888888,
              "#fdca26"
             ],
             [
              1,
              "#f0f921"
             ]
            ],
            "type": "surface"
           }
          ],
          "table": [
           {
            "cells": {
             "fill": {
              "color": "#EBF0F8"
             },
             "line": {
              "color": "white"
             }
            },
            "header": {
             "fill": {
              "color": "#C8D4E3"
             },
             "line": {
              "color": "white"
             }
            },
            "type": "table"
           }
          ]
         },
         "layout": {
          "annotationdefaults": {
           "arrowcolor": "#2a3f5f",
           "arrowhead": 0,
           "arrowwidth": 1
          },
          "autotypenumbers": "strict",
          "coloraxis": {
           "colorbar": {
            "outlinewidth": 0,
            "ticks": ""
           }
          },
          "colorscale": {
           "diverging": [
            [
             0,
             "#8e0152"
            ],
            [
             0.1,
             "#c51b7d"
            ],
            [
             0.2,
             "#de77ae"
            ],
            [
             0.3,
             "#f1b6da"
            ],
            [
             0.4,
             "#fde0ef"
            ],
            [
             0.5,
             "#f7f7f7"
            ],
            [
             0.6,
             "#e6f5d0"
            ],
            [
             0.7,
             "#b8e186"
            ],
            [
             0.8,
             "#7fbc41"
            ],
            [
             0.9,
             "#4d9221"
            ],
            [
             1,
             "#276419"
            ]
           ],
           "sequential": [
            [
             0,
             "#0d0887"
            ],
            [
             0.1111111111111111,
             "#46039f"
            ],
            [
             0.2222222222222222,
             "#7201a8"
            ],
            [
             0.3333333333333333,
             "#9c179e"
            ],
            [
             0.4444444444444444,
             "#bd3786"
            ],
            [
             0.5555555555555556,
             "#d8576b"
            ],
            [
             0.6666666666666666,
             "#ed7953"
            ],
            [
             0.7777777777777778,
             "#fb9f3a"
            ],
            [
             0.8888888888888888,
             "#fdca26"
            ],
            [
             1,
             "#f0f921"
            ]
           ],
           "sequentialminus": [
            [
             0,
             "#0d0887"
            ],
            [
             0.1111111111111111,
             "#46039f"
            ],
            [
             0.2222222222222222,
             "#7201a8"
            ],
            [
             0.3333333333333333,
             "#9c179e"
            ],
            [
             0.4444444444444444,
             "#bd3786"
            ],
            [
             0.5555555555555556,
             "#d8576b"
            ],
            [
             0.6666666666666666,
             "#ed7953"
            ],
            [
             0.7777777777777778,
             "#fb9f3a"
            ],
            [
             0.8888888888888888,
             "#fdca26"
            ],
            [
             1,
             "#f0f921"
            ]
           ]
          },
          "colorway": [
           "#636efa",
           "#EF553B",
           "#00cc96",
           "#ab63fa",
           "#FFA15A",
           "#19d3f3",
           "#FF6692",
           "#B6E880",
           "#FF97FF",
           "#FECB52"
          ],
          "font": {
           "color": "#2a3f5f"
          },
          "geo": {
           "bgcolor": "white",
           "lakecolor": "white",
           "landcolor": "#E5ECF6",
           "showlakes": true,
           "showland": true,
           "subunitcolor": "white"
          },
          "hoverlabel": {
           "align": "left"
          },
          "hovermode": "closest",
          "mapbox": {
           "style": "light"
          },
          "paper_bgcolor": "white",
          "plot_bgcolor": "#E5ECF6",
          "polar": {
           "angularaxis": {
            "gridcolor": "white",
            "linecolor": "white",
            "ticks": ""
           },
           "bgcolor": "#E5ECF6",
           "radialaxis": {
            "gridcolor": "white",
            "linecolor": "white",
            "ticks": ""
           }
          },
          "scene": {
           "xaxis": {
            "backgroundcolor": "#E5ECF6",
            "gridcolor": "white",
            "gridwidth": 2,
            "linecolor": "white",
            "showbackground": true,
            "ticks": "",
            "zerolinecolor": "white"
           },
           "yaxis": {
            "backgroundcolor": "#E5ECF6",
            "gridcolor": "white",
            "gridwidth": 2,
            "linecolor": "white",
            "showbackground": true,
            "ticks": "",
            "zerolinecolor": "white"
           },
           "zaxis": {
            "backgroundcolor": "#E5ECF6",
            "gridcolor": "white",
            "gridwidth": 2,
            "linecolor": "white",
            "showbackground": true,
            "ticks": "",
            "zerolinecolor": "white"
           }
          },
          "shapedefaults": {
           "line": {
            "color": "#2a3f5f"
           }
          },
          "ternary": {
           "aaxis": {
            "gridcolor": "white",
            "linecolor": "white",
            "ticks": ""
           },
           "baxis": {
            "gridcolor": "white",
            "linecolor": "white",
            "ticks": ""
           },
           "bgcolor": "#E5ECF6",
           "caxis": {
            "gridcolor": "white",
            "linecolor": "white",
            "ticks": ""
           }
          },
          "title": {
           "x": 0.05
          },
          "xaxis": {
           "automargin": true,
           "gridcolor": "white",
           "linecolor": "white",
           "ticks": "",
           "title": {
            "standoff": 15
           },
           "zerolinecolor": "white",
           "zerolinewidth": 2
          },
          "yaxis": {
           "automargin": true,
           "gridcolor": "white",
           "linecolor": "white",
           "ticks": "",
           "title": {
            "standoff": 15
           },
           "zerolinecolor": "white",
           "zerolinewidth": 2
          }
         }
        },
        "xaxis": {
         "anchor": "y",
         "domain": [
          0,
          1
         ],
         "title": {
          "text": "value"
         }
        },
        "yaxis": {
         "anchor": "x",
         "domain": [
          0,
          1
         ],
         "title": {
          "text": "count"
         }
        }
       }
      }
     },
     "metadata": {},
     "output_type": "display_data"
    }
   ],
   "source": [
    "px.histogram(data[(data['country']=='Egypt')& (data['currency']=='EGP')].max_salary)"
   ]
  },
  {
   "cell_type": "code",
   "execution_count": null,
   "metadata": {},
   "outputs": [],
   "source": []
  }
 ],
 "metadata": {
  "kernelspec": {
   "display_name": "Python 3",
   "language": "python",
   "name": "python3"
  },
  "language_info": {
   "codemirror_mode": {
    "name": "ipython",
    "version": 3
   },
   "file_extension": ".py",
   "mimetype": "text/x-python",
   "name": "python",
   "nbconvert_exporter": "python",
   "pygments_lexer": "ipython3",
   "version": "3.8.10"
  },
  "orig_nbformat": 4,
  "vscode": {
   "interpreter": {
    "hash": "916dbcbb3f70747c44a77c7bcd40155683ae19c65e1c03b4aa3499c5328201f1"
   }
  }
 },
 "nbformat": 4,
 "nbformat_minor": 2
}
